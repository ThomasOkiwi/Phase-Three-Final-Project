{
 "cells": [
  {
   "cell_type": "markdown",
   "metadata": {},
   "source": [
    "# SyriaTel Company"
   ]
  },
  {
   "cell_type": "markdown",
   "metadata": {},
   "source": [
    "\n",
    "### Business Understanding\n",
    "\n",
    "SyriaTel is a communication company that deals with Call-related services calls and messaging services. The company is realising revenue loss due to custmers churn. there are various reasons why customers would terminate the their business woth SeriaTel; among them are quality of services provided and the cost of call or messeges etc. To understand the root cause of the customer churn, it is important to develop a model that will predict potential customer churn, thus identifying the factors that increase the rate of customers's customers churn. This will help company take necesary actions to reduce churn.\n",
    "\n",
    "### Project Objective\n",
    "\n",
    "The primary objective is to develop a robust predictive model to identify customers at risk of churning from SyriaTel, our telecommunications company. By understanding and predicting customer churn, we aim to minimize revenue loss and proactively implement retention strategies.\n",
    "#### Key Questions \n",
    "1.\tWhat are the primary factors influencing customer churn?\n",
    "2.\tAre there specific patterns in usage or billing that precede a customer's decision to leave?\n",
    "3.\tCan customer service interactions serve as early indicators of dissatisfaction?\n",
    "\n",
    "#### Scope\n",
    "The scope of this project encompasses the analysis of historical customer data to identify patterns and indicators associated with churn. The focus is on developing a binary classification model that can effectively distinguish between customers likely to churn and those likely to stay.\n",
    "\n",
    "\n",
    "#### Key Stakeholders\n",
    "1.\tTelecommunication Operations Team:  They are interested in reducing churn as it directly impacts revenue and customer satisfaction.\n",
    "2.\tMarketing Team: The marketing team can leverage insights from the model to design targeted campaigns aimed at retaining at-risk customers.\n",
    "3.\tCustomer Service Team: Proactive identification of potential churners enables the customer service team to intervene and address issues promptly, enhancing customer satisfaction.\n",
    "\n",
    "#### Data Sources \n",
    "Data sources include customer profiles, usage patterns, billing information, customer service interactions, contract details, and network performance metrics. The dataset should be representative of diverse customer segments and cover a sufficient historical period.\n",
    "\n",
    "#### Key Questions\n",
    "1.\tWhat are the primary factors influencing customer churn?\n",
    "2.\tAre there specific patterns in usage or billing that precede a customer's decision to leave?\n",
    "3.\tCan customer service interactions serve as early indicators of dissatisfaction?\n",
    "\n",
    "\n",
    "#### Success Criteria\n",
    "The success of the project will be evaluated based on the model's predictive accuracy, precision, recall, and the ability to identify potential churners before they actually leave. The business impact will be measured by a reduction in churn rates and an increase in overall customer retention.\n",
    "\n",
    "#### Risks \n",
    "Ethical Considerations: Ensuring the ethical use of customer data and compliance with privacy regulations is paramount.\n",
    "\n",
    "#### Challenges\n",
    "1.\tData Quality: Incomplete or inaccurate data may affect the model's performance.\n",
    "2.\tChanging Market Dynamics: Rapid changes in the telecom market may influence customer behavior, requiring the model to adapt.\n",
    "\n"
   ]
  },
  {
   "cell_type": "markdown",
   "metadata": {},
   "source": [
    "### Data Understanding\n",
    "##### importing libraries to load and interprete data"
   ]
  },
  {
   "cell_type": "code",
   "execution_count": 43,
   "metadata": {},
   "outputs": [],
   "source": [
    "#importing the neccesary libraries for our analysis\n",
    "import pandas as pd #\n",
    "import numpy as np#\n",
    "import matplotlib.pyplot as plt #\n",
    "import seaborn as sns#\n",
    "%matplotlib inline\n",
    "\n",
    "\n",
    "\n",
    "# Sklearn libraries \n",
    "from sklearn.model_selection import train_test_split\n",
    "from sklearn.preprocessing import StandardScaler\n",
    "from sklearn.linear_model import LogisticRegression\n",
    "from sklearn.ensemble import RandomForestClassifier\n",
    "from sklearn.tree import DecisionTreeClassifier\n",
    "from sklearn.neighbors import KNeighborsClassifier\n",
    "from sklearn.metrics import accuracy_score, classification_report, roc_auc_score\n",
    "from sklearn.pipeline import Pipeline\n",
    "from sklearn.feature_selection import SelectFromModel\n",
    "\n",
    "\n",
    "\n",
    "\n",
    "import warnings\n",
    "warnings.filterwarnings(\"ignore\")"
   ]
  },
  {
   "cell_type": "code",
   "execution_count": 44,
   "metadata": {},
   "outputs": [
    {
     "data": {
      "text/html": [
       "<div>\n",
       "<style scoped>\n",
       "    .dataframe tbody tr th:only-of-type {\n",
       "        vertical-align: middle;\n",
       "    }\n",
       "\n",
       "    .dataframe tbody tr th {\n",
       "        vertical-align: top;\n",
       "    }\n",
       "\n",
       "    .dataframe thead th {\n",
       "        text-align: right;\n",
       "    }\n",
       "</style>\n",
       "<table border=\"1\" class=\"dataframe\">\n",
       "  <thead>\n",
       "    <tr style=\"text-align: right;\">\n",
       "      <th></th>\n",
       "      <th>state</th>\n",
       "      <th>account length</th>\n",
       "      <th>area code</th>\n",
       "      <th>phone number</th>\n",
       "      <th>international plan</th>\n",
       "      <th>voice mail plan</th>\n",
       "      <th>number vmail messages</th>\n",
       "      <th>total day minutes</th>\n",
       "      <th>total day calls</th>\n",
       "      <th>total day charge</th>\n",
       "      <th>total eve minutes</th>\n",
       "      <th>total eve calls</th>\n",
       "      <th>total eve charge</th>\n",
       "      <th>total night minutes</th>\n",
       "      <th>total night calls</th>\n",
       "      <th>total night charge</th>\n",
       "      <th>total intl minutes</th>\n",
       "      <th>total intl calls</th>\n",
       "      <th>total intl charge</th>\n",
       "      <th>customer service calls</th>\n",
       "      <th>churn</th>\n",
       "    </tr>\n",
       "  </thead>\n",
       "  <tbody>\n",
       "    <tr>\n",
       "      <th>0</th>\n",
       "      <td>KS</td>\n",
       "      <td>128</td>\n",
       "      <td>415</td>\n",
       "      <td>382-4657</td>\n",
       "      <td>no</td>\n",
       "      <td>yes</td>\n",
       "      <td>25</td>\n",
       "      <td>265.1</td>\n",
       "      <td>110</td>\n",
       "      <td>45.07</td>\n",
       "      <td>197.4</td>\n",
       "      <td>99</td>\n",
       "      <td>16.78</td>\n",
       "      <td>244.7</td>\n",
       "      <td>91</td>\n",
       "      <td>11.01</td>\n",
       "      <td>10.0</td>\n",
       "      <td>3</td>\n",
       "      <td>2.70</td>\n",
       "      <td>1</td>\n",
       "      <td>False</td>\n",
       "    </tr>\n",
       "    <tr>\n",
       "      <th>1</th>\n",
       "      <td>OH</td>\n",
       "      <td>107</td>\n",
       "      <td>415</td>\n",
       "      <td>371-7191</td>\n",
       "      <td>no</td>\n",
       "      <td>yes</td>\n",
       "      <td>26</td>\n",
       "      <td>161.6</td>\n",
       "      <td>123</td>\n",
       "      <td>27.47</td>\n",
       "      <td>195.5</td>\n",
       "      <td>103</td>\n",
       "      <td>16.62</td>\n",
       "      <td>254.4</td>\n",
       "      <td>103</td>\n",
       "      <td>11.45</td>\n",
       "      <td>13.7</td>\n",
       "      <td>3</td>\n",
       "      <td>3.70</td>\n",
       "      <td>1</td>\n",
       "      <td>False</td>\n",
       "    </tr>\n",
       "    <tr>\n",
       "      <th>2</th>\n",
       "      <td>NJ</td>\n",
       "      <td>137</td>\n",
       "      <td>415</td>\n",
       "      <td>358-1921</td>\n",
       "      <td>no</td>\n",
       "      <td>no</td>\n",
       "      <td>0</td>\n",
       "      <td>243.4</td>\n",
       "      <td>114</td>\n",
       "      <td>41.38</td>\n",
       "      <td>121.2</td>\n",
       "      <td>110</td>\n",
       "      <td>10.30</td>\n",
       "      <td>162.6</td>\n",
       "      <td>104</td>\n",
       "      <td>7.32</td>\n",
       "      <td>12.2</td>\n",
       "      <td>5</td>\n",
       "      <td>3.29</td>\n",
       "      <td>0</td>\n",
       "      <td>False</td>\n",
       "    </tr>\n",
       "    <tr>\n",
       "      <th>3</th>\n",
       "      <td>OH</td>\n",
       "      <td>84</td>\n",
       "      <td>408</td>\n",
       "      <td>375-9999</td>\n",
       "      <td>yes</td>\n",
       "      <td>no</td>\n",
       "      <td>0</td>\n",
       "      <td>299.4</td>\n",
       "      <td>71</td>\n",
       "      <td>50.90</td>\n",
       "      <td>61.9</td>\n",
       "      <td>88</td>\n",
       "      <td>5.26</td>\n",
       "      <td>196.9</td>\n",
       "      <td>89</td>\n",
       "      <td>8.86</td>\n",
       "      <td>6.6</td>\n",
       "      <td>7</td>\n",
       "      <td>1.78</td>\n",
       "      <td>2</td>\n",
       "      <td>False</td>\n",
       "    </tr>\n",
       "    <tr>\n",
       "      <th>4</th>\n",
       "      <td>OK</td>\n",
       "      <td>75</td>\n",
       "      <td>415</td>\n",
       "      <td>330-6626</td>\n",
       "      <td>yes</td>\n",
       "      <td>no</td>\n",
       "      <td>0</td>\n",
       "      <td>166.7</td>\n",
       "      <td>113</td>\n",
       "      <td>28.34</td>\n",
       "      <td>148.3</td>\n",
       "      <td>122</td>\n",
       "      <td>12.61</td>\n",
       "      <td>186.9</td>\n",
       "      <td>121</td>\n",
       "      <td>8.41</td>\n",
       "      <td>10.1</td>\n",
       "      <td>3</td>\n",
       "      <td>2.73</td>\n",
       "      <td>3</td>\n",
       "      <td>False</td>\n",
       "    </tr>\n",
       "  </tbody>\n",
       "</table>\n",
       "</div>"
      ],
      "text/plain": [
       "  state  account length  area code phone number international plan  \\\n",
       "0    KS             128        415     382-4657                 no   \n",
       "1    OH             107        415     371-7191                 no   \n",
       "2    NJ             137        415     358-1921                 no   \n",
       "3    OH              84        408     375-9999                yes   \n",
       "4    OK              75        415     330-6626                yes   \n",
       "\n",
       "  voice mail plan  number vmail messages  total day minutes  total day calls  \\\n",
       "0             yes                     25              265.1              110   \n",
       "1             yes                     26              161.6              123   \n",
       "2              no                      0              243.4              114   \n",
       "3              no                      0              299.4               71   \n",
       "4              no                      0              166.7              113   \n",
       "\n",
       "   total day charge  total eve minutes  total eve calls  total eve charge  \\\n",
       "0             45.07              197.4               99             16.78   \n",
       "1             27.47              195.5              103             16.62   \n",
       "2             41.38              121.2              110             10.30   \n",
       "3             50.90               61.9               88              5.26   \n",
       "4             28.34              148.3              122             12.61   \n",
       "\n",
       "   total night minutes  total night calls  total night charge  \\\n",
       "0                244.7                 91               11.01   \n",
       "1                254.4                103               11.45   \n",
       "2                162.6                104                7.32   \n",
       "3                196.9                 89                8.86   \n",
       "4                186.9                121                8.41   \n",
       "\n",
       "   total intl minutes  total intl calls  total intl charge  \\\n",
       "0                10.0                 3               2.70   \n",
       "1                13.7                 3               3.70   \n",
       "2                12.2                 5               3.29   \n",
       "3                 6.6                 7               1.78   \n",
       "4                10.1                 3               2.73   \n",
       "\n",
       "   customer service calls  churn  \n",
       "0                       1  False  \n",
       "1                       1  False  \n",
       "2                       0  False  \n",
       "3                       2  False  \n",
       "4                       3  False  "
      ]
     },
     "execution_count": 44,
     "metadata": {},
     "output_type": "execute_result"
    }
   ],
   "source": [
    "#Reading the data into a dataframe and previewing the first 5 rows just to see how our data looks like\n",
    "df= pd.read_csv('bigml_59c28831336c6604c800002a.csv') # using pandas to read the csv file containing the data\n",
    "pd.set_option('display.max_columns', None)   # inbuilt function ensures that all our columns are displayed rather \n",
    "                                              # than just half version of it\n",
    "df.head()# display of the first five rows of the data set"
   ]
  },
  {
   "cell_type": "markdown",
   "metadata": {},
   "source": [
    "#### Description of the Dataset \n",
    "#### Customer Profiles\n",
    "Includes demographic information, subscription details, and customer identifiers.\n",
    "\n",
    "#### Usage Patterns:\n",
    "Data on call frequency, duration, data usage, and text messaging.\n",
    "\n",
    "#### Billing Information:\n",
    "Payment history, overdue payments, and spending patterns."
   ]
  },
  {
   "cell_type": "markdown",
   "metadata": {},
   "source": [
    "### Checking for Data Accuracy"
   ]
  },
  {
   "cell_type": "code",
   "execution_count": 45,
   "metadata": {},
   "outputs": [
    {
     "name": "stdout",
     "output_type": "stream",
     "text": [
      "shape: (3333, 21) \n",
      "\n",
      "<class 'pandas.core.frame.DataFrame'>\n",
      "RangeIndex: 3333 entries, 0 to 3332\n",
      "Data columns (total 21 columns):\n",
      " #   Column                  Non-Null Count  Dtype  \n",
      "---  ------                  --------------  -----  \n",
      " 0   state                   3333 non-null   object \n",
      " 1   account length          3333 non-null   int64  \n",
      " 2   area code               3333 non-null   int64  \n",
      " 3   phone number            3333 non-null   object \n",
      " 4   international plan      3333 non-null   object \n",
      " 5   voice mail plan         3333 non-null   object \n",
      " 6   number vmail messages   3333 non-null   int64  \n",
      " 7   total day minutes       3333 non-null   float64\n",
      " 8   total day calls         3333 non-null   int64  \n",
      " 9   total day charge        3333 non-null   float64\n",
      " 10  total eve minutes       3333 non-null   float64\n",
      " 11  total eve calls         3333 non-null   int64  \n",
      " 12  total eve charge        3333 non-null   float64\n",
      " 13  total night minutes     3333 non-null   float64\n",
      " 14  total night calls       3333 non-null   int64  \n",
      " 15  total night charge      3333 non-null   float64\n",
      " 16  total intl minutes      3333 non-null   float64\n",
      " 17  total intl calls        3333 non-null   int64  \n",
      " 18  total intl charge       3333 non-null   float64\n",
      " 19  customer service calls  3333 non-null   int64  \n",
      " 20  churn                   3333 non-null   bool   \n",
      "dtypes: bool(1), float64(8), int64(8), object(4)\n",
      "memory usage: 524.2+ KB\n",
      "Column infomation:\n",
      " None\n"
     ]
    }
   ],
   "source": [
    "print (\"shape:\", df.shape,'\\n') # I'm looking at the shape of the data to understand the number of rows and columns \n",
    "\n",
    "print(\"Column infomation:\\n\",df.info()) # Checking the characteristic of and components of the DataFrame;  including the size, column names, data types, and the number\n",
    "        # missin valuse , if present "
   ]
  },
  {
   "cell_type": "code",
   "execution_count": 46,
   "metadata": {},
   "outputs": [
    {
     "data": {
      "text/plain": [
       "Index(['state', 'account length', 'area code', 'phone number',\n",
       "       'international plan', 'voice mail plan', 'number vmail messages',\n",
       "       'total day minutes', 'total day calls', 'total day charge',\n",
       "       'total eve minutes', 'total eve calls', 'total eve charge',\n",
       "       'total night minutes', 'total night calls', 'total night charge',\n",
       "       'total intl minutes', 'total intl calls', 'total intl charge',\n",
       "       'customer service calls', 'churn'],\n",
       "      dtype='object')"
      ]
     },
     "execution_count": 46,
     "metadata": {},
     "output_type": "execute_result"
    }
   ],
   "source": [
    "df.columns # displaying all the columns of the dataset"
   ]
  },
  {
   "cell_type": "code",
   "execution_count": 47,
   "metadata": {},
   "outputs": [
    {
     "data": {
      "text/html": [
       "<div>\n",
       "<style scoped>\n",
       "    .dataframe tbody tr th:only-of-type {\n",
       "        vertical-align: middle;\n",
       "    }\n",
       "\n",
       "    .dataframe tbody tr th {\n",
       "        vertical-align: top;\n",
       "    }\n",
       "\n",
       "    .dataframe thead th {\n",
       "        text-align: right;\n",
       "    }\n",
       "</style>\n",
       "<table border=\"1\" class=\"dataframe\">\n",
       "  <thead>\n",
       "    <tr style=\"text-align: right;\">\n",
       "      <th></th>\n",
       "      <th>account length</th>\n",
       "      <th>area code</th>\n",
       "      <th>number vmail messages</th>\n",
       "      <th>total day minutes</th>\n",
       "      <th>total day calls</th>\n",
       "      <th>total day charge</th>\n",
       "      <th>total eve minutes</th>\n",
       "      <th>total eve calls</th>\n",
       "      <th>total eve charge</th>\n",
       "      <th>total night minutes</th>\n",
       "      <th>total night calls</th>\n",
       "      <th>total night charge</th>\n",
       "      <th>total intl minutes</th>\n",
       "      <th>total intl calls</th>\n",
       "      <th>total intl charge</th>\n",
       "      <th>customer service calls</th>\n",
       "    </tr>\n",
       "  </thead>\n",
       "  <tbody>\n",
       "    <tr>\n",
       "      <th>count</th>\n",
       "      <td>3333.000000</td>\n",
       "      <td>3333.000000</td>\n",
       "      <td>3333.000000</td>\n",
       "      <td>3333.000000</td>\n",
       "      <td>3333.000000</td>\n",
       "      <td>3333.000000</td>\n",
       "      <td>3333.000000</td>\n",
       "      <td>3333.000000</td>\n",
       "      <td>3333.000000</td>\n",
       "      <td>3333.000000</td>\n",
       "      <td>3333.000000</td>\n",
       "      <td>3333.000000</td>\n",
       "      <td>3333.000000</td>\n",
       "      <td>3333.000000</td>\n",
       "      <td>3333.000000</td>\n",
       "      <td>3333.000000</td>\n",
       "    </tr>\n",
       "    <tr>\n",
       "      <th>mean</th>\n",
       "      <td>101.064806</td>\n",
       "      <td>437.182418</td>\n",
       "      <td>8.099010</td>\n",
       "      <td>179.775098</td>\n",
       "      <td>100.435644</td>\n",
       "      <td>30.562307</td>\n",
       "      <td>200.980348</td>\n",
       "      <td>100.114311</td>\n",
       "      <td>17.083540</td>\n",
       "      <td>200.872037</td>\n",
       "      <td>100.107711</td>\n",
       "      <td>9.039325</td>\n",
       "      <td>10.237294</td>\n",
       "      <td>4.479448</td>\n",
       "      <td>2.764581</td>\n",
       "      <td>1.562856</td>\n",
       "    </tr>\n",
       "    <tr>\n",
       "      <th>std</th>\n",
       "      <td>39.822106</td>\n",
       "      <td>42.371290</td>\n",
       "      <td>13.688365</td>\n",
       "      <td>54.467389</td>\n",
       "      <td>20.069084</td>\n",
       "      <td>9.259435</td>\n",
       "      <td>50.713844</td>\n",
       "      <td>19.922625</td>\n",
       "      <td>4.310668</td>\n",
       "      <td>50.573847</td>\n",
       "      <td>19.568609</td>\n",
       "      <td>2.275873</td>\n",
       "      <td>2.791840</td>\n",
       "      <td>2.461214</td>\n",
       "      <td>0.753773</td>\n",
       "      <td>1.315491</td>\n",
       "    </tr>\n",
       "    <tr>\n",
       "      <th>min</th>\n",
       "      <td>1.000000</td>\n",
       "      <td>408.000000</td>\n",
       "      <td>0.000000</td>\n",
       "      <td>0.000000</td>\n",
       "      <td>0.000000</td>\n",
       "      <td>0.000000</td>\n",
       "      <td>0.000000</td>\n",
       "      <td>0.000000</td>\n",
       "      <td>0.000000</td>\n",
       "      <td>23.200000</td>\n",
       "      <td>33.000000</td>\n",
       "      <td>1.040000</td>\n",
       "      <td>0.000000</td>\n",
       "      <td>0.000000</td>\n",
       "      <td>0.000000</td>\n",
       "      <td>0.000000</td>\n",
       "    </tr>\n",
       "    <tr>\n",
       "      <th>25%</th>\n",
       "      <td>74.000000</td>\n",
       "      <td>408.000000</td>\n",
       "      <td>0.000000</td>\n",
       "      <td>143.700000</td>\n",
       "      <td>87.000000</td>\n",
       "      <td>24.430000</td>\n",
       "      <td>166.600000</td>\n",
       "      <td>87.000000</td>\n",
       "      <td>14.160000</td>\n",
       "      <td>167.000000</td>\n",
       "      <td>87.000000</td>\n",
       "      <td>7.520000</td>\n",
       "      <td>8.500000</td>\n",
       "      <td>3.000000</td>\n",
       "      <td>2.300000</td>\n",
       "      <td>1.000000</td>\n",
       "    </tr>\n",
       "    <tr>\n",
       "      <th>50%</th>\n",
       "      <td>101.000000</td>\n",
       "      <td>415.000000</td>\n",
       "      <td>0.000000</td>\n",
       "      <td>179.400000</td>\n",
       "      <td>101.000000</td>\n",
       "      <td>30.500000</td>\n",
       "      <td>201.400000</td>\n",
       "      <td>100.000000</td>\n",
       "      <td>17.120000</td>\n",
       "      <td>201.200000</td>\n",
       "      <td>100.000000</td>\n",
       "      <td>9.050000</td>\n",
       "      <td>10.300000</td>\n",
       "      <td>4.000000</td>\n",
       "      <td>2.780000</td>\n",
       "      <td>1.000000</td>\n",
       "    </tr>\n",
       "    <tr>\n",
       "      <th>75%</th>\n",
       "      <td>127.000000</td>\n",
       "      <td>510.000000</td>\n",
       "      <td>20.000000</td>\n",
       "      <td>216.400000</td>\n",
       "      <td>114.000000</td>\n",
       "      <td>36.790000</td>\n",
       "      <td>235.300000</td>\n",
       "      <td>114.000000</td>\n",
       "      <td>20.000000</td>\n",
       "      <td>235.300000</td>\n",
       "      <td>113.000000</td>\n",
       "      <td>10.590000</td>\n",
       "      <td>12.100000</td>\n",
       "      <td>6.000000</td>\n",
       "      <td>3.270000</td>\n",
       "      <td>2.000000</td>\n",
       "    </tr>\n",
       "    <tr>\n",
       "      <th>max</th>\n",
       "      <td>243.000000</td>\n",
       "      <td>510.000000</td>\n",
       "      <td>51.000000</td>\n",
       "      <td>350.800000</td>\n",
       "      <td>165.000000</td>\n",
       "      <td>59.640000</td>\n",
       "      <td>363.700000</td>\n",
       "      <td>170.000000</td>\n",
       "      <td>30.910000</td>\n",
       "      <td>395.000000</td>\n",
       "      <td>175.000000</td>\n",
       "      <td>17.770000</td>\n",
       "      <td>20.000000</td>\n",
       "      <td>20.000000</td>\n",
       "      <td>5.400000</td>\n",
       "      <td>9.000000</td>\n",
       "    </tr>\n",
       "  </tbody>\n",
       "</table>\n",
       "</div>"
      ],
      "text/plain": [
       "       account length    area code  number vmail messages  total day minutes  \\\n",
       "count     3333.000000  3333.000000            3333.000000        3333.000000   \n",
       "mean       101.064806   437.182418               8.099010         179.775098   \n",
       "std         39.822106    42.371290              13.688365          54.467389   \n",
       "min          1.000000   408.000000               0.000000           0.000000   \n",
       "25%         74.000000   408.000000               0.000000         143.700000   \n",
       "50%        101.000000   415.000000               0.000000         179.400000   \n",
       "75%        127.000000   510.000000              20.000000         216.400000   \n",
       "max        243.000000   510.000000              51.000000         350.800000   \n",
       "\n",
       "       total day calls  total day charge  total eve minutes  total eve calls  \\\n",
       "count      3333.000000       3333.000000        3333.000000      3333.000000   \n",
       "mean        100.435644         30.562307         200.980348       100.114311   \n",
       "std          20.069084          9.259435          50.713844        19.922625   \n",
       "min           0.000000          0.000000           0.000000         0.000000   \n",
       "25%          87.000000         24.430000         166.600000        87.000000   \n",
       "50%         101.000000         30.500000         201.400000       100.000000   \n",
       "75%         114.000000         36.790000         235.300000       114.000000   \n",
       "max         165.000000         59.640000         363.700000       170.000000   \n",
       "\n",
       "       total eve charge  total night minutes  total night calls  \\\n",
       "count       3333.000000          3333.000000        3333.000000   \n",
       "mean          17.083540           200.872037         100.107711   \n",
       "std            4.310668            50.573847          19.568609   \n",
       "min            0.000000            23.200000          33.000000   \n",
       "25%           14.160000           167.000000          87.000000   \n",
       "50%           17.120000           201.200000         100.000000   \n",
       "75%           20.000000           235.300000         113.000000   \n",
       "max           30.910000           395.000000         175.000000   \n",
       "\n",
       "       total night charge  total intl minutes  total intl calls  \\\n",
       "count         3333.000000         3333.000000       3333.000000   \n",
       "mean             9.039325           10.237294          4.479448   \n",
       "std              2.275873            2.791840          2.461214   \n",
       "min              1.040000            0.000000          0.000000   \n",
       "25%              7.520000            8.500000          3.000000   \n",
       "50%              9.050000           10.300000          4.000000   \n",
       "75%             10.590000           12.100000          6.000000   \n",
       "max             17.770000           20.000000         20.000000   \n",
       "\n",
       "       total intl charge  customer service calls  \n",
       "count        3333.000000             3333.000000  \n",
       "mean            2.764581                1.562856  \n",
       "std             0.753773                1.315491  \n",
       "min             0.000000                0.000000  \n",
       "25%             2.300000                1.000000  \n",
       "50%             2.780000                1.000000  \n",
       "75%             3.270000                2.000000  \n",
       "max             5.400000                9.000000  "
      ]
     },
     "execution_count": 47,
     "metadata": {},
     "output_type": "execute_result"
    }
   ],
   "source": [
    "df.describe() # Performing central tendency operations: mean, mode and quartile for all columns with interger and float \n",
    "              # data types "
   ]
  },
  {
   "cell_type": "markdown",
   "metadata": {},
   "source": [
    "### Dataset Description\n",
    "\n",
    "Size and Structure:\n",
    "\n",
    "* Number of Rows : 3333 entries, ranging from 0 to 3332. \n",
    "\n",
    "* Number of Columns: There are 21 columns in the DataFrame.\n",
    "\n",
    "Column Information:\n",
    "\n",
    "* Columns include various types of data, such as integers, floats, objects (likely strings), and a boolean (churn column).\n",
    "\n",
    "* Some of the columns include: state, account length, area code, phone number, international plan, voice mail plan etc.\n",
    "\n"
   ]
  },
  {
   "cell_type": "markdown",
   "metadata": {},
   "source": [
    "#### Distribution of Churn Customers in the dataset"
   ]
  },
  {
   "cell_type": "code",
   "execution_count": 48,
   "metadata": {},
   "outputs": [
    {
     "name": "stdout",
     "output_type": "stream",
     "text": [
      "Churn Rate: 14.49% : Indicating a potential revenue loss for the company at almost the same rate.\n"
     ]
    }
   ],
   "source": [
    "# Calculating churn state_churn_rates\n",
    "\n",
    "total_customers = len(df) # calculating the total number of customers in the dataset \n",
    "churned_customers = df['churn'].sum() # culcalting the total number of customer whose churn state is 'True'\n",
    "\n",
    "churn_rate = churned_customers / total_customers # calculating the percetage of the 'True' customers \n",
    "\n",
    "print(f\"Churn Rate: {churn_rate:.2%} : Indicating a potential revenue loss for the company at almost the same rate.\")\n",
    "                                      # dsplaying the result of our calculation\n"
   ]
  },
  {
   "cell_type": "code",
   "execution_count": 49,
   "metadata": {},
   "outputs": [
    {
     "data": {
      "text/plain": [
       "False    2850\n",
       "True      483\n",
       "Name: churn, dtype: int64"
      ]
     },
     "execution_count": 49,
     "metadata": {},
     "output_type": "execute_result"
    }
   ],
   "source": [
    "df['churn'].value_counts() # counting the number of element in each category of 'True' and 'False' state of customer churn.\n",
    "                           # True indicates that the custumer ended the their service with SyriaTel, \n",
    "                           # False shows that the customer is still present."
   ]
  },
  {
   "cell_type": "markdown",
   "metadata": {},
   "source": [
    "There is imbalance distibutiion of \"True\" and \"False\" statements in the dataset, 14.49% represnting True and False Taking up 85.51%"
   ]
  },
  {
   "cell_type": "code",
   "execution_count": 50,
   "metadata": {},
   "outputs": [
    {
     "data": {
      "image/png": "[encoded data removed]",
      "text/plain": [
       "<Figure size 1440x504 with 1 Axes>"
      ]
     },
     "metadata": {
      "needs_background": "light"
     },
     "output_type": "display_data"
    }
   ],
   "source": [
    "# ploting the disticnution of customers churn state\n",
    "plt.figure(figsize=(20,7))\n",
    "sns.set(style='whitegrid')\n",
    "sns.countplot(df['churn'])\n",
    "plt.title('Distribution of True and False')\n",
    "plt.xlabel('churn')\n",
    "plt.ylabel('Count of Churn')\n",
    "plt.show()"
   ]
  },
  {
   "cell_type": "markdown",
   "metadata": {},
   "source": [
    "### Exploratory Data Analysis"
   ]
  },
  {
   "cell_type": "markdown",
   "metadata": {},
   "source": [
    "#### Missing Values:"
   ]
  },
  {
   "cell_type": "code",
   "execution_count": 51,
   "metadata": {},
   "outputs": [
    {
     "data": {
      "text/html": [
       "<div>\n",
       "<style scoped>\n",
       "    .dataframe tbody tr th:only-of-type {\n",
       "        vertical-align: middle;\n",
       "    }\n",
       "\n",
       "    .dataframe tbody tr th {\n",
       "        vertical-align: top;\n",
       "    }\n",
       "\n",
       "    .dataframe thead th {\n",
       "        text-align: right;\n",
       "    }\n",
       "</style>\n",
       "<table border=\"1\" class=\"dataframe\">\n",
       "  <thead>\n",
       "    <tr style=\"text-align: right;\">\n",
       "      <th></th>\n",
       "      <th>Missing_val</th>\n",
       "      <th>Percent_Cal</th>\n",
       "    </tr>\n",
       "  </thead>\n",
       "  <tbody>\n",
       "    <tr>\n",
       "      <th>churn</th>\n",
       "      <td>0</td>\n",
       "      <td>0.0</td>\n",
       "    </tr>\n",
       "    <tr>\n",
       "      <th>total day charge</th>\n",
       "      <td>0</td>\n",
       "      <td>0.0</td>\n",
       "    </tr>\n",
       "    <tr>\n",
       "      <th>account length</th>\n",
       "      <td>0</td>\n",
       "      <td>0.0</td>\n",
       "    </tr>\n",
       "    <tr>\n",
       "      <th>area code</th>\n",
       "      <td>0</td>\n",
       "      <td>0.0</td>\n",
       "    </tr>\n",
       "    <tr>\n",
       "      <th>phone number</th>\n",
       "      <td>0</td>\n",
       "      <td>0.0</td>\n",
       "    </tr>\n",
       "    <tr>\n",
       "      <th>international plan</th>\n",
       "      <td>0</td>\n",
       "      <td>0.0</td>\n",
       "    </tr>\n",
       "    <tr>\n",
       "      <th>voice mail plan</th>\n",
       "      <td>0</td>\n",
       "      <td>0.0</td>\n",
       "    </tr>\n",
       "    <tr>\n",
       "      <th>number vmail messages</th>\n",
       "      <td>0</td>\n",
       "      <td>0.0</td>\n",
       "    </tr>\n",
       "    <tr>\n",
       "      <th>total day minutes</th>\n",
       "      <td>0</td>\n",
       "      <td>0.0</td>\n",
       "    </tr>\n",
       "    <tr>\n",
       "      <th>total day calls</th>\n",
       "      <td>0</td>\n",
       "      <td>0.0</td>\n",
       "    </tr>\n",
       "    <tr>\n",
       "      <th>total eve minutes</th>\n",
       "      <td>0</td>\n",
       "      <td>0.0</td>\n",
       "    </tr>\n",
       "    <tr>\n",
       "      <th>customer service calls</th>\n",
       "      <td>0</td>\n",
       "      <td>0.0</td>\n",
       "    </tr>\n",
       "    <tr>\n",
       "      <th>total eve calls</th>\n",
       "      <td>0</td>\n",
       "      <td>0.0</td>\n",
       "    </tr>\n",
       "    <tr>\n",
       "      <th>total eve charge</th>\n",
       "      <td>0</td>\n",
       "      <td>0.0</td>\n",
       "    </tr>\n",
       "    <tr>\n",
       "      <th>total night minutes</th>\n",
       "      <td>0</td>\n",
       "      <td>0.0</td>\n",
       "    </tr>\n",
       "    <tr>\n",
       "      <th>total night calls</th>\n",
       "      <td>0</td>\n",
       "      <td>0.0</td>\n",
       "    </tr>\n",
       "    <tr>\n",
       "      <th>total night charge</th>\n",
       "      <td>0</td>\n",
       "      <td>0.0</td>\n",
       "    </tr>\n",
       "    <tr>\n",
       "      <th>total intl minutes</th>\n",
       "      <td>0</td>\n",
       "      <td>0.0</td>\n",
       "    </tr>\n",
       "    <tr>\n",
       "      <th>total intl calls</th>\n",
       "      <td>0</td>\n",
       "      <td>0.0</td>\n",
       "    </tr>\n",
       "    <tr>\n",
       "      <th>total intl charge</th>\n",
       "      <td>0</td>\n",
       "      <td>0.0</td>\n",
       "    </tr>\n",
       "    <tr>\n",
       "      <th>state</th>\n",
       "      <td>0</td>\n",
       "      <td>0.0</td>\n",
       "    </tr>\n",
       "  </tbody>\n",
       "</table>\n",
       "</div>"
      ],
      "text/plain": [
       "                        Missing_val  Percent_Cal\n",
       "churn                             0          0.0\n",
       "total day charge                  0          0.0\n",
       "account length                    0          0.0\n",
       "area code                         0          0.0\n",
       "phone number                      0          0.0\n",
       "international plan                0          0.0\n",
       "voice mail plan                   0          0.0\n",
       "number vmail messages             0          0.0\n",
       "total day minutes                 0          0.0\n",
       "total day calls                   0          0.0\n",
       "total eve minutes                 0          0.0\n",
       "customer service calls            0          0.0\n",
       "total eve calls                   0          0.0\n",
       "total eve charge                  0          0.0\n",
       "total night minutes               0          0.0\n",
       "total night calls                 0          0.0\n",
       "total night charge                0          0.0\n",
       "total intl minutes                0          0.0\n",
       "total intl calls                  0          0.0\n",
       "total intl charge                 0          0.0\n",
       "state                             0          0.0"
      ]
     },
     "execution_count": 51,
     "metadata": {},
     "output_type": "execute_result"
    }
   ],
   "source": [
    "Missing_val=df.isnull().sum().sort_values(ascending=False)#This determines how many missing values in each column then sum all the\n",
    "                                                    # missing values in each column.\n",
    "                                                    \n",
    "Percent_Cal=((df.isnull().sum()/df.isnull().count())*100).sort_values(ascending=False)#This arranges the values in descending order with \n",
    "\n",
    "Combined=pd.concat([Missing_val,Percent_Cal],axis=1,keys=['Missing_val','Percent_Cal'])#combining tatal and percentage into a new \n",
    "Combined"
   ]
  },
  {
   "cell_type": "markdown",
   "metadata": {},
   "source": [
    "The the are no missing values in the dataset."
   ]
  },
  {
   "cell_type": "markdown",
   "metadata": {},
   "source": [
    "####  Outliers: "
   ]
  },
  {
   "cell_type": "code",
   "execution_count": 52,
   "metadata": {},
   "outputs": [
    {
     "data": {
      "text/html": [
       "<div>\n",
       "<style scoped>\n",
       "    .dataframe tbody tr th:only-of-type {\n",
       "        vertical-align: middle;\n",
       "    }\n",
       "\n",
       "    .dataframe tbody tr th {\n",
       "        vertical-align: top;\n",
       "    }\n",
       "\n",
       "    .dataframe thead th {\n",
       "        text-align: right;\n",
       "    }\n",
       "</style>\n",
       "<table border=\"1\" class=\"dataframe\">\n",
       "  <thead>\n",
       "    <tr style=\"text-align: right;\">\n",
       "      <th></th>\n",
       "      <th>account length</th>\n",
       "      <th>area code</th>\n",
       "      <th>number vmail messages</th>\n",
       "      <th>total day minutes</th>\n",
       "      <th>total day calls</th>\n",
       "      <th>total day charge</th>\n",
       "      <th>total eve minutes</th>\n",
       "      <th>total eve calls</th>\n",
       "      <th>total eve charge</th>\n",
       "      <th>total night minutes</th>\n",
       "      <th>total night calls</th>\n",
       "      <th>total night charge</th>\n",
       "      <th>total intl minutes</th>\n",
       "      <th>total intl calls</th>\n",
       "      <th>total intl charge</th>\n",
       "      <th>customer service calls</th>\n",
       "    </tr>\n",
       "  </thead>\n",
       "  <tbody>\n",
       "    <tr>\n",
       "      <th>0</th>\n",
       "      <td>128.0</td>\n",
       "      <td>415.0</td>\n",
       "      <td>25.0</td>\n",
       "      <td>265.1</td>\n",
       "      <td>110.0</td>\n",
       "      <td>45.07</td>\n",
       "      <td>197.4</td>\n",
       "      <td>99.0</td>\n",
       "      <td>16.78</td>\n",
       "      <td>244.7</td>\n",
       "      <td>91.0</td>\n",
       "      <td>11.01</td>\n",
       "      <td>10.0</td>\n",
       "      <td>3.0</td>\n",
       "      <td>2.70</td>\n",
       "      <td>1.0</td>\n",
       "    </tr>\n",
       "    <tr>\n",
       "      <th>1</th>\n",
       "      <td>107.0</td>\n",
       "      <td>415.0</td>\n",
       "      <td>26.0</td>\n",
       "      <td>161.6</td>\n",
       "      <td>123.0</td>\n",
       "      <td>27.47</td>\n",
       "      <td>195.5</td>\n",
       "      <td>103.0</td>\n",
       "      <td>16.62</td>\n",
       "      <td>254.4</td>\n",
       "      <td>103.0</td>\n",
       "      <td>11.45</td>\n",
       "      <td>13.7</td>\n",
       "      <td>3.0</td>\n",
       "      <td>3.70</td>\n",
       "      <td>1.0</td>\n",
       "    </tr>\n",
       "    <tr>\n",
       "      <th>2</th>\n",
       "      <td>137.0</td>\n",
       "      <td>415.0</td>\n",
       "      <td>0.0</td>\n",
       "      <td>243.4</td>\n",
       "      <td>114.0</td>\n",
       "      <td>41.38</td>\n",
       "      <td>121.2</td>\n",
       "      <td>110.0</td>\n",
       "      <td>10.30</td>\n",
       "      <td>162.6</td>\n",
       "      <td>104.0</td>\n",
       "      <td>7.32</td>\n",
       "      <td>12.2</td>\n",
       "      <td>5.0</td>\n",
       "      <td>3.29</td>\n",
       "      <td>0.0</td>\n",
       "    </tr>\n",
       "    <tr>\n",
       "      <th>3</th>\n",
       "      <td>84.0</td>\n",
       "      <td>408.0</td>\n",
       "      <td>0.0</td>\n",
       "      <td>299.4</td>\n",
       "      <td>71.0</td>\n",
       "      <td>50.90</td>\n",
       "      <td>61.9</td>\n",
       "      <td>88.0</td>\n",
       "      <td>5.26</td>\n",
       "      <td>196.9</td>\n",
       "      <td>89.0</td>\n",
       "      <td>8.86</td>\n",
       "      <td>6.6</td>\n",
       "      <td>7.0</td>\n",
       "      <td>1.78</td>\n",
       "      <td>2.0</td>\n",
       "    </tr>\n",
       "    <tr>\n",
       "      <th>4</th>\n",
       "      <td>75.0</td>\n",
       "      <td>415.0</td>\n",
       "      <td>0.0</td>\n",
       "      <td>166.7</td>\n",
       "      <td>113.0</td>\n",
       "      <td>28.34</td>\n",
       "      <td>148.3</td>\n",
       "      <td>122.0</td>\n",
       "      <td>12.61</td>\n",
       "      <td>186.9</td>\n",
       "      <td>121.0</td>\n",
       "      <td>8.41</td>\n",
       "      <td>10.1</td>\n",
       "      <td>3.0</td>\n",
       "      <td>2.73</td>\n",
       "      <td>3.0</td>\n",
       "    </tr>\n",
       "  </tbody>\n",
       "</table>\n",
       "</div>"
      ],
      "text/plain": [
       "   account length  area code  number vmail messages  total day minutes  \\\n",
       "0           128.0      415.0                   25.0              265.1   \n",
       "1           107.0      415.0                   26.0              161.6   \n",
       "2           137.0      415.0                    0.0              243.4   \n",
       "3            84.0      408.0                    0.0              299.4   \n",
       "4            75.0      415.0                    0.0              166.7   \n",
       "\n",
       "   total day calls  total day charge  total eve minutes  total eve calls  \\\n",
       "0            110.0             45.07              197.4             99.0   \n",
       "1            123.0             27.47              195.5            103.0   \n",
       "2            114.0             41.38              121.2            110.0   \n",
       "3             71.0             50.90               61.9             88.0   \n",
       "4            113.0             28.34              148.3            122.0   \n",
       "\n",
       "   total eve charge  total night minutes  total night calls  \\\n",
       "0             16.78                244.7               91.0   \n",
       "1             16.62                254.4              103.0   \n",
       "2             10.30                162.6              104.0   \n",
       "3              5.26                196.9               89.0   \n",
       "4             12.61                186.9              121.0   \n",
       "\n",
       "   total night charge  total intl minutes  total intl calls  \\\n",
       "0               11.01                10.0               3.0   \n",
       "1               11.45                13.7               3.0   \n",
       "2                7.32                12.2               5.0   \n",
       "3                8.86                 6.6               7.0   \n",
       "4                8.41                10.1               3.0   \n",
       "\n",
       "   total intl charge  customer service calls  \n",
       "0               2.70                     1.0  \n",
       "1               3.70                     1.0  \n",
       "2               3.29                     0.0  \n",
       "3               1.78                     2.0  \n",
       "4               2.73                     3.0  "
      ]
     },
     "execution_count": 52,
     "metadata": {},
     "output_type": "execute_result"
    }
   ],
   "source": [
    "def Outliers(df):\n",
    "    df = df.select_dtypes(include=['int64', 'float64'])    # Selecting numerical columns\n",
    "    for col in df.columns:                                  # iterating columns \n",
    "        data_mean, data_std = df[col].mean(), df[col].std()  # calculating mean and std\n",
    "        cut_off = data_std * 3                               # defining a cut-off value as three times the standard deviation\n",
    "        lower, upper = data_mean - cut_off, data_mean + cut_off  # calculating upper and lower bounds\n",
    "        outliers = (df[col] < lower) | (df[col] > upper)        # creating Boolean mask to identify outlier\n",
    "        df.loc[outliers, col] = df[col].median()   # replacing outlier with median value\n",
    "\n",
    "    return df\n",
    "\n",
    "Outliers(df).head()  # calling the function and displayng the first five rows."
   ]
  },
  {
   "cell_type": "markdown",
   "metadata": {},
   "source": [
    "#### Feature Engineering\n",
    "\n",
    "#### 1. Categotical Data:"
   ]
  },
  {
   "cell_type": "code",
   "execution_count": 53,
   "metadata": {},
   "outputs": [],
   "source": [
    "# Replace 'international plan' and 'voice mail plan' with binary values \n",
    "columns_to_encode = ['international plan', 'voice mail plan']\n",
    "\n",
    "# replacing 'yes' and 'no' with 1 and 0 using a mapping\n",
    "encoding_map = {\n",
    "    'yes': 1,\n",
    "    'no': 0,\n",
    "}\n",
    "\n",
    "# Applying the mapping to each column\n",
    "df[columns_to_encode] = df[columns_to_encode].replace(encoding_map)\n"
   ]
  },
  {
   "cell_type": "markdown",
   "metadata": {},
   "source": [
    "#### 2. Calculating Total Charges"
   ]
  },
  {
   "cell_type": "code",
   "execution_count": 54,
   "metadata": {},
   "outputs": [
    {
     "data": {
      "text/html": [
       "<div>\n",
       "<style scoped>\n",
       "    .dataframe tbody tr th:only-of-type {\n",
       "        vertical-align: middle;\n",
       "    }\n",
       "\n",
       "    .dataframe tbody tr th {\n",
       "        vertical-align: top;\n",
       "    }\n",
       "\n",
       "    .dataframe thead th {\n",
       "        text-align: right;\n",
       "    }\n",
       "</style>\n",
       "<table border=\"1\" class=\"dataframe\">\n",
       "  <thead>\n",
       "    <tr style=\"text-align: right;\">\n",
       "      <th></th>\n",
       "      <th>state</th>\n",
       "      <th>account length</th>\n",
       "      <th>area code</th>\n",
       "      <th>phone number</th>\n",
       "      <th>international plan</th>\n",
       "      <th>voice mail plan</th>\n",
       "      <th>number vmail messages</th>\n",
       "      <th>total day minutes</th>\n",
       "      <th>total day calls</th>\n",
       "      <th>total day charge</th>\n",
       "      <th>total eve minutes</th>\n",
       "      <th>total eve calls</th>\n",
       "      <th>total eve charge</th>\n",
       "      <th>total night minutes</th>\n",
       "      <th>total night calls</th>\n",
       "      <th>total night charge</th>\n",
       "      <th>total intl minutes</th>\n",
       "      <th>total intl calls</th>\n",
       "      <th>total intl charge</th>\n",
       "      <th>customer service calls</th>\n",
       "      <th>churn</th>\n",
       "      <th>Total_Cost</th>\n",
       "    </tr>\n",
       "  </thead>\n",
       "  <tbody>\n",
       "    <tr>\n",
       "      <th>0</th>\n",
       "      <td>KS</td>\n",
       "      <td>128</td>\n",
       "      <td>415</td>\n",
       "      <td>382-4657</td>\n",
       "      <td>0</td>\n",
       "      <td>1</td>\n",
       "      <td>25</td>\n",
       "      <td>265.1</td>\n",
       "      <td>110</td>\n",
       "      <td>45.07</td>\n",
       "      <td>197.4</td>\n",
       "      <td>99</td>\n",
       "      <td>16.78</td>\n",
       "      <td>244.7</td>\n",
       "      <td>91</td>\n",
       "      <td>11.01</td>\n",
       "      <td>10.0</td>\n",
       "      <td>3</td>\n",
       "      <td>2.70</td>\n",
       "      <td>1</td>\n",
       "      <td>False</td>\n",
       "      <td>72.86</td>\n",
       "    </tr>\n",
       "    <tr>\n",
       "      <th>1</th>\n",
       "      <td>OH</td>\n",
       "      <td>107</td>\n",
       "      <td>415</td>\n",
       "      <td>371-7191</td>\n",
       "      <td>0</td>\n",
       "      <td>1</td>\n",
       "      <td>26</td>\n",
       "      <td>161.6</td>\n",
       "      <td>123</td>\n",
       "      <td>27.47</td>\n",
       "      <td>195.5</td>\n",
       "      <td>103</td>\n",
       "      <td>16.62</td>\n",
       "      <td>254.4</td>\n",
       "      <td>103</td>\n",
       "      <td>11.45</td>\n",
       "      <td>13.7</td>\n",
       "      <td>3</td>\n",
       "      <td>3.70</td>\n",
       "      <td>1</td>\n",
       "      <td>False</td>\n",
       "      <td>55.54</td>\n",
       "    </tr>\n",
       "    <tr>\n",
       "      <th>2</th>\n",
       "      <td>NJ</td>\n",
       "      <td>137</td>\n",
       "      <td>415</td>\n",
       "      <td>358-1921</td>\n",
       "      <td>0</td>\n",
       "      <td>0</td>\n",
       "      <td>0</td>\n",
       "      <td>243.4</td>\n",
       "      <td>114</td>\n",
       "      <td>41.38</td>\n",
       "      <td>121.2</td>\n",
       "      <td>110</td>\n",
       "      <td>10.30</td>\n",
       "      <td>162.6</td>\n",
       "      <td>104</td>\n",
       "      <td>7.32</td>\n",
       "      <td>12.2</td>\n",
       "      <td>5</td>\n",
       "      <td>3.29</td>\n",
       "      <td>0</td>\n",
       "      <td>False</td>\n",
       "      <td>59.00</td>\n",
       "    </tr>\n",
       "    <tr>\n",
       "      <th>3</th>\n",
       "      <td>OH</td>\n",
       "      <td>84</td>\n",
       "      <td>408</td>\n",
       "      <td>375-9999</td>\n",
       "      <td>1</td>\n",
       "      <td>0</td>\n",
       "      <td>0</td>\n",
       "      <td>299.4</td>\n",
       "      <td>71</td>\n",
       "      <td>50.90</td>\n",
       "      <td>61.9</td>\n",
       "      <td>88</td>\n",
       "      <td>5.26</td>\n",
       "      <td>196.9</td>\n",
       "      <td>89</td>\n",
       "      <td>8.86</td>\n",
       "      <td>6.6</td>\n",
       "      <td>7</td>\n",
       "      <td>1.78</td>\n",
       "      <td>2</td>\n",
       "      <td>False</td>\n",
       "      <td>65.02</td>\n",
       "    </tr>\n",
       "    <tr>\n",
       "      <th>4</th>\n",
       "      <td>OK</td>\n",
       "      <td>75</td>\n",
       "      <td>415</td>\n",
       "      <td>330-6626</td>\n",
       "      <td>1</td>\n",
       "      <td>0</td>\n",
       "      <td>0</td>\n",
       "      <td>166.7</td>\n",
       "      <td>113</td>\n",
       "      <td>28.34</td>\n",
       "      <td>148.3</td>\n",
       "      <td>122</td>\n",
       "      <td>12.61</td>\n",
       "      <td>186.9</td>\n",
       "      <td>121</td>\n",
       "      <td>8.41</td>\n",
       "      <td>10.1</td>\n",
       "      <td>3</td>\n",
       "      <td>2.73</td>\n",
       "      <td>3</td>\n",
       "      <td>False</td>\n",
       "      <td>49.36</td>\n",
       "    </tr>\n",
       "  </tbody>\n",
       "</table>\n",
       "</div>"
      ],
      "text/plain": [
       "  state  account length  area code phone number  international plan  \\\n",
       "0    KS             128        415     382-4657                   0   \n",
       "1    OH             107        415     371-7191                   0   \n",
       "2    NJ             137        415     358-1921                   0   \n",
       "3    OH              84        408     375-9999                   1   \n",
       "4    OK              75        415     330-6626                   1   \n",
       "\n",
       "   voice mail plan  number vmail messages  total day minutes  total day calls  \\\n",
       "0                1                     25              265.1              110   \n",
       "1                1                     26              161.6              123   \n",
       "2                0                      0              243.4              114   \n",
       "3                0                      0              299.4               71   \n",
       "4                0                      0              166.7              113   \n",
       "\n",
       "   total day charge  total eve minutes  total eve calls  total eve charge  \\\n",
       "0             45.07              197.4               99             16.78   \n",
       "1             27.47              195.5              103             16.62   \n",
       "2             41.38              121.2              110             10.30   \n",
       "3             50.90               61.9               88              5.26   \n",
       "4             28.34              148.3              122             12.61   \n",
       "\n",
       "   total night minutes  total night calls  total night charge  \\\n",
       "0                244.7                 91               11.01   \n",
       "1                254.4                103               11.45   \n",
       "2                162.6                104                7.32   \n",
       "3                196.9                 89                8.86   \n",
       "4                186.9                121                8.41   \n",
       "\n",
       "   total intl minutes  total intl calls  total intl charge  \\\n",
       "0                10.0                 3               2.70   \n",
       "1                13.7                 3               3.70   \n",
       "2                12.2                 5               3.29   \n",
       "3                 6.6                 7               1.78   \n",
       "4                10.1                 3               2.73   \n",
       "\n",
       "   customer service calls  churn  Total_Cost  \n",
       "0                       1  False       72.86  \n",
       "1                       1  False       55.54  \n",
       "2                       0  False       59.00  \n",
       "3                       2  False       65.02  \n",
       "4                       3  False       49.36  "
      ]
     },
     "execution_count": 54,
     "metadata": {},
     "output_type": "execute_result"
    }
   ],
   "source": [
    "# Calculating the total call charge in 24 hour time \n",
    "\n",
    "df['Total_Cost']=df['total day charge'] +df['total eve charge']+df['total night charge'] # calculating the cost of call in 24-hour\n",
    "                                                                            # time and appending the column to the dataset\n",
    "df.head() # displaying the first 5 rows "
   ]
  },
  {
   "cell_type": "markdown",
   "metadata": {},
   "source": [
    "### Analysis"
   ]
  },
  {
   "cell_type": "markdown",
   "metadata": {},
   "source": [
    "#### 1. Distribution of churn across states "
   ]
  },
  {
   "cell_type": "code",
   "execution_count": 55,
   "metadata": {},
   "outputs": [
    {
     "name": "stdout",
     "output_type": "stream",
     "text": [
      "State with the Highest Churn: CA (Churn Rate: 26.47%)\n",
      "State with the Lowest Churn: HI (Churn Rate: 5.66%)\n"
     ]
    },
    {
     "data": {
      "image/png": "[encoded data removed]",
      "text/plain": [
       "<Figure size 1440x504 with 1 Axes>"
      ]
     },
     "metadata": {},
     "output_type": "display_data"
    }
   ],
   "source": [
    "#Calculate churn rates for each state\n",
    "state_churn_rates = df.groupby('state')['churn'].mean().reset_index()\n",
    "\n",
    "# Find the state with the highest churn\n",
    "state_highest_churn = state_churn_rates.loc[state_churn_rates['churn'].idxmax()]\n",
    "\n",
    "# Find the state with the lowest churn\n",
    "state_lowest_churn = state_churn_rates.loc[state_churn_rates['churn'].idxmin()]\n",
    "\n",
    "print(f\"State with the Highest Churn: {state_highest_churn['state']} (Churn Rate: {state_highest_churn['churn']:.2%})\")\n",
    "print(f\"State with the Lowest Churn: {state_lowest_churn['state']} (Churn Rate: {state_lowest_churn['churn']:.2%})\")\n",
    "\n",
    "# Plot using Seaborn\n",
    "sns.set(style=\"whitegrid\")\n",
    "plt.figure(figsize=(20, 7))\n",
    "\n",
    "# Create a bar plot\n",
    "sns.barplot(x='state', y='churn', data=state_churn_rates, palette='viridis')\n",
    "\n",
    "plt.title('Churn Rates Across States')\n",
    "plt.xlabel('State')\n",
    "plt.ylabel('Churn Rate')\n",
    "plt.show()"
   ]
  },
  {
   "cell_type": "markdown",
   "metadata": {},
   "source": [
    "State with the Highest Churn: CA (Churn Rate: 26.47%), However, State with the Lowest Churn: HI (Churn Rate: 5.66%). A churn rate of 26% in as single state is great revenue loss. The cause of such high rate can be due to factors such as poor network connectivity, influence of competitors in the area etc."
   ]
  },
  {
   "cell_type": "markdown",
   "metadata": {},
   "source": [
    "#### 2. Multicorrelarity:"
   ]
  },
  {
   "cell_type": "code",
   "execution_count": 56,
   "metadata": {},
   "outputs": [
    {
     "data": {
      "image/png": "[encoded data removed]",
      "text/plain": [
       "<Figure size 1440x1224 with 2 Axes>"
      ]
     },
     "metadata": {},
     "output_type": "display_data"
    }
   ],
   "source": [
    "numeric_df = df.select_dtypes(include='number')\n",
    "\n",
    "# Compute the Pearson correlation matrix\n",
    "correlation_matrix = numeric_df.corr()\n",
    "\n",
    "# Plot the correlation matrix using Seaborn heatmap\n",
    "plt.figure(figsize=(20, 17))\n",
    "sns.heatmap(correlation_matrix, annot=True, cmap='coolwarm', vmin=-1, vmax=1)\n",
    "plt.title(\"Pearson's Correlation Matrix\")\n",
    "plt.show()"
   ]
  },
  {
   "cell_type": "markdown",
   "metadata": {},
   "source": [
    "The following are the features with strong correlation:\n",
    "* Voice mail plan and number of voice mail messages, 0.96, which is a trong positive correlation.\n",
    "* Total_Cost and total day minutes, 0.89, which is a trong positive correlation. \n",
    "* Total_Cost and total day charge,.89,which is a trong positive correlation."
   ]
  },
  {
   "cell_type": "markdown",
   "metadata": {},
   "source": [
    "### 3. Relationship between churn and frequency of calls "
   ]
  },
  {
   "cell_type": "code",
   "execution_count": 57,
   "metadata": {},
   "outputs": [
    {
     "data": {
      "image/png": "[encoded data removed]",
      "text/plain": [
       "<Figure size 1008x504 with 1 Axes>"
      ]
     },
     "metadata": {},
     "output_type": "display_data"
    }
   ],
   "source": [
    "# Calculating the churn rate for each frequency of calls\n",
    "churn_rate_by_calls = df.groupby('customer service calls')['churn'].mean().reset_index()\n",
    "\n",
    "plt.figure(figsize=(14, 7))\n",
    "sns.lineplot(x='customer service calls', y='churn', data=churn_rate_by_calls, marker='o', color='blue')\n",
    "plt.title('Churn Rate vs Frequency of Calls')\n",
    "plt.xlabel('Frequency of Calls')\n",
    "plt.ylabel('Churn Rate')\n",
    "plt.show()"
   ]
  },
  {
   "cell_type": "markdown",
   "metadata": {},
   "source": [
    "Churn rate increases with increase in the number of calls customers have with he custmer service. customers with average of 0-3 calls are less likely to churn as opposed to those who call 4 times and more.The rate increases sponteneosly when the frequency get above 8 times. There are several reasons for the increase; one would be the custmers problems were not solved despite making serveral attemps or question were not anwered. There is posibility that customes made several attempts reach custmer service and did not. Thus with more attempts, they resulted to churn. "
   ]
  },
  {
   "cell_type": "markdown",
   "metadata": {},
   "source": [
    "### 4. Relationship between International Plan and Churn"
   ]
  },
  {
   "cell_type": "code",
   "execution_count": 58,
   "metadata": {},
   "outputs": [
    {
     "data": {
      "image/png": "[encoded data removed]",
      "text/plain": [
       "<Figure size 720x432 with 1 Axes>"
      ]
     },
     "metadata": {},
     "output_type": "display_data"
    }
   ],
   "source": [
    "plt.figure(figsize=(10, 6))\n",
    "sns.scatterplot(x='Total_Cost', y='churn', data=df, palette='viridis')\n",
    "plt.title('Churn vs Total_Cost')\n",
    "plt.xlabel('Total_Cost')\n",
    "plt.ylabel('churn')\n",
    "plt.show()"
   ]
  },
  {
   "cell_type": "markdown",
   "metadata": {},
   "source": [
    "Customers are likely to churn when call charges between 35-85. "
   ]
  },
  {
   "cell_type": "markdown",
   "metadata": {},
   "source": [
    "### 5. Churn vs Place of Call/Area"
   ]
  },
  {
   "cell_type": "code",
   "execution_count": 59,
   "metadata": {},
   "outputs": [
    {
     "data": {
      "image/png": "[encoded data removed]",
      "text/plain": [
       "<Figure size 720x432 with 1 Axes>"
      ]
     },
     "metadata": {},
     "output_type": "display_data"
    }
   ],
   "source": [
    "plt.figure(figsize=(10, 6))\n",
    "\n",
    "sns.lineplot(x='area code', y='churn', data=df, marker='o', color='blue')\n",
    "# sns.scatterplot(x='churn', y='Total_Cost', data=df, palette='Set2')\n",
    "plt.title('Churn vs Place of Call/Area')\n",
    "plt.xlabel('Residential Code')\n",
    "plt.ylabel('churn')\n",
    "plt.show()"
   ]
  },
  {
   "cell_type": "markdown",
   "metadata": {},
   "source": [
    "There is a weak relationship between place of residence/area code and churn rate but it is a faccter worth exploring"
   ]
  },
  {
   "cell_type": "markdown",
   "metadata": {},
   "source": [
    "### Relatioship between Churn and Internatinal Plan"
   ]
  },
  {
   "cell_type": "code",
   "execution_count": 60,
   "metadata": {},
   "outputs": [
    {
     "data": {
      "image/png": "[encoded data removed]",
      "text/plain": [
       "<Figure size 1008x576 with 1 Axes>"
      ]
     },
     "metadata": {},
     "output_type": "display_data"
    }
   ],
   "source": [
    "plt. figure (figsize=(14,8))\n",
    "sns.barplot(x='international plan', y= 'churn', data= df,palette='Set2')\n",
    "plt.title('Internatinal Plan')\n",
    "plt.xlabel('Inmternation Plan')\n",
    "plt.ylabel('Churn')\n",
    "plt.show()"
   ]
  },
  {
   "cell_type": "markdown",
   "metadata": {},
   "source": [
    "Customers who have an International plan are more likely to churn compared to those without any plan. This suggests that the presence of an International plan is associated with a higher likelihood of customer turnover or discontinuation of services. The reasons for this could vary, such as dissatisfaction with the International plan's offerings, higher costs associated with it, or other factors influencing customer preferences and decisions."
   ]
  },
  {
   "cell_type": "markdown",
   "metadata": {},
   "source": [
    "# Modeling\n",
    "\n",
    "\n",
    "The objective of this stage is to identify and build models to predict likelyhood of a customer churning the company services. Thus helping SyriaTel Company to identify and mitigate the risk of churning.Insight for the dodels and analysis may help the  company create different trategies to ensure retation."
   ]
  },
  {
   "cell_type": "markdown",
   "metadata": {},
   "source": [
    "### Feature Selection\n",
    "The following are the feature which have been selceted for modeling \n",
    "* area code \n",
    "* International plan\n",
    "* voice mail plan\n",
    "* number vmail messages\n",
    "* total day minutes\n",
    "* total day calls \n",
    "* total day charge \n",
    "* total eve minutes\n",
    "* total eve calls\n",
    "* total eve charge  \n",
    "* total night minutes\n",
    "* total night calls\n",
    "* total night charge\n",
    "* total intl minutes\n",
    "* total intl calls\n",
    "*. total intl charge\n",
    "* customer service call\n",
    "* Total_Cost"
   ]
  },
  {
   "cell_type": "code",
   "execution_count": 61,
   "metadata": {},
   "outputs": [],
   "source": [
    "# Chosing x and y features\n",
    "\n",
    "y= df['churn'] # this is the feature  that will be predictd\n",
    "X= df.drop(['churn','state','account length','phone number'], axis=1) # chosing predictors for my model\n",
    "   # \"state \" is dropped so that we state-code instead, since they are very related.\n",
    "   # 'account length' and 'phone number' is dropped since is has no significance to churn"
   ]
  },
  {
   "cell_type": "markdown",
   "metadata": {},
   "source": [
    "### Spliting Data Into Train and Test"
   ]
  },
  {
   "cell_type": "code",
   "execution_count": 62,
   "metadata": {},
   "outputs": [],
   "source": [
    "# Conducting a split \n",
    "X_train, X_test, y_train, y_test= train_test_split(X,y, test_size=0.2, random_state=42)"
   ]
  },
  {
   "cell_type": "markdown",
   "metadata": {},
   "source": [
    "### Choosing the model\n",
    "\n",
    "To start with, the model chosen is Logistic model, since output value (y) is binary. there is justficattion for logistic model other for trial purposes"
   ]
  },
  {
   "cell_type": "markdown",
   "metadata": {},
   "source": [
    "#### Major Assumption of Logistic Regression Model\n",
    "* The dependent variable is dichotomous. That is, it is either present or absent but never both at once. \n",
    "* There should exist no outliers in the data. \n",
    "* There should not be a high correlation or multicollinearity among the different predictors. This can be assessed using a correlation matrix among different predictors"
   ]
  },
  {
   "cell_type": "code",
   "execution_count": 63,
   "metadata": {},
   "outputs": [
    {
     "name": "stdout",
     "output_type": "stream",
     "text": [
      "score : 1.0\n",
      "Accuracy : 0.8515742128935532\n"
     ]
    },
    {
     "data": {
      "text/html": [
       "<div>\n",
       "<style scoped>\n",
       "    .dataframe tbody tr th:only-of-type {\n",
       "        vertical-align: middle;\n",
       "    }\n",
       "\n",
       "    .dataframe tbody tr th {\n",
       "        vertical-align: top;\n",
       "    }\n",
       "\n",
       "    .dataframe thead th {\n",
       "        text-align: right;\n",
       "    }\n",
       "</style>\n",
       "<table border=\"1\" class=\"dataframe\">\n",
       "  <thead>\n",
       "    <tr style=\"text-align: right;\">\n",
       "      <th>col_0</th>\n",
       "      <th>False</th>\n",
       "      <th>True</th>\n",
       "    </tr>\n",
       "    <tr>\n",
       "      <th>churn</th>\n",
       "      <th></th>\n",
       "      <th></th>\n",
       "    </tr>\n",
       "  </thead>\n",
       "  <tbody>\n",
       "    <tr>\n",
       "      <th>False</th>\n",
       "      <td>563</td>\n",
       "      <td>3</td>\n",
       "    </tr>\n",
       "    <tr>\n",
       "      <th>True</th>\n",
       "      <td>96</td>\n",
       "      <td>5</td>\n",
       "    </tr>\n",
       "  </tbody>\n",
       "</table>\n",
       "</div>"
      ],
      "text/plain": [
       "col_0  False  True \n",
       "churn              \n",
       "False    563      3\n",
       "True      96      5"
      ]
     },
     "execution_count": 63,
     "metadata": {},
     "output_type": "execute_result"
    }
   ],
   "source": [
    "# Instantiating the Logistic model\n",
    "model= LogisticRegression()\n",
    "# Fting the model\n",
    "model. fit(X_train, y_train)\n",
    "\n",
    "# Perfoming a predictin on the test data\n",
    "y_pred= model. predict(X_test)\n",
    "\n",
    "# pritng the model score\n",
    "\n",
    "print ('score :', model.score(X_test, y_pred))\n",
    "\n",
    "# printing model accuracy\n",
    "print ('Accuracy :',accuracy_score(y_test,y_pred))\n",
    "\n",
    "# performing  cross-tabulation \n",
    "pd.crosstab(y_test,y_pred)\n"
   ]
  },
  {
   "cell_type": "markdown",
   "metadata": {},
   "source": [
    "The logistic model has shown good performance with an accuracy of 85% and a score of 100%. However, there are only 5 \"True\" statements out of a sample of 101, representing only 5%. One possible reason for this could be the undersampling of the \"True\" category. Another factor may be the presence of multicollinearity between predictors, such as the Voice mail plan and the number of voice mail messages, with a correlation of 0.96."
   ]
  },
  {
   "cell_type": "markdown",
   "metadata": {},
   "source": [
    "#### Evaluating The Logistic model using Cofusion Matrics"
   ]
  },
  {
   "cell_type": "code",
   "execution_count": 64,
   "metadata": {},
   "outputs": [
    {
     "data": {
      "image/png": "[encoded data removed]",
      "text/plain": [
       "<Figure size 432x288 with 2 Axes>"
      ]
     },
     "metadata": {},
     "output_type": "display_data"
    }
   ],
   "source": [
    "# Importing confusion matrix from Sklearn library\n",
    "from sklearn.metrics import confusion_matrix\n",
    "\n",
    "# Get predictions\n",
    "y_pred = model.predict(X_train)\n",
    "\n",
    "# Calculate confusion matrix\n",
    "cm = confusion_matrix(y_train, y_pred)\n",
    "\n",
    "# Plot confusion matrix using seaborn heatmap\n",
    "sns.heatmap(cm, annot=True, fmt='d', cmap='Blues')\n",
    "plt.xlabel('Predicted')\n",
    "plt.ylabel('True')\n",
    "plt.show()"
   ]
  },
  {
   "cell_type": "markdown",
   "metadata": {},
   "source": [
    "Confusion Matrics as further shown that only 8% of \"True\" category has been classified correctly"
   ]
  },
  {
   "cell_type": "code",
   "execution_count": 65,
   "metadata": {},
   "outputs": [
    {
     "name": "stdout",
     "output_type": "stream",
     "text": [
      "Logistic Regression Perfomance\n",
      "Train Data \n",
      "               precision    recall  f1-score   support\n",
      "\n",
      "       False       0.86      0.99      0.92      2284\n",
      "        True       0.52      0.08      0.13       382\n",
      "\n",
      "    accuracy                           0.86      2666\n",
      "   macro avg       0.69      0.53      0.53      2666\n",
      "weighted avg       0.82      0.86      0.81      2666\n",
      "\n",
      "Test Data \n",
      "               precision    recall  f1-score   support\n",
      "\n",
      "       False       0.85      0.99      0.92       566\n",
      "        True       0.62      0.05      0.09       101\n",
      "\n",
      "    accuracy                           0.85       667\n",
      "   macro avg       0.74      0.52      0.51       667\n",
      "weighted avg       0.82      0.85      0.79       667\n",
      "\n"
     ]
    }
   ],
   "source": [
    "# further insight from classification_report\n",
    "\n",
    "y_train_pred= model.predict(X_train)\n",
    "y_test_pred = model.predict(X_test)\n",
    "print (\"Logistic Regression Perfomance\")\n",
    "print (\"Train Data \\n\",classification_report(y_train, y_train_pred))\n",
    "print (\"Test Data \\n\", classification_report(y_test, y_test_pred))"
   ]
  },
  {
   "cell_type": "markdown",
   "metadata": {},
   "source": [
    "Classification_report shows accuracy for train and test dataset have 86% and 85% respectively.However, there are   382 \"True\" element and 2284 \"False\" elements in the sample. \"True\" elements are under represnted."
   ]
  },
  {
   "cell_type": "markdown",
   "metadata": {},
   "source": [
    "### Handlind Sapmple Imbalance using SMOTE\n"
   ]
  },
  {
   "cell_type": "code",
   "execution_count": 66,
   "metadata": {},
   "outputs": [
    {
     "name": "stdout",
     "output_type": "stream",
     "text": [
      "Before Smote: Counter({False: 2284, True: 382})\n",
      "After Smote: Counter({False: 2284, True: 2284})\n"
     ]
    }
   ],
   "source": [
    "# Importing counter from collection library to count the number of entrie in the sa\n",
    "from collections import Counter\n",
    "\n",
    "# Importing imbalance library fro sklearn\n",
    "from imblearn.over_sampling import SMOTE\n",
    "\n",
    "# instantiating smote\n",
    "\n",
    "smote = SMOTE()\n",
    "\n",
    "# fiting smote\n",
    "X_train_somte, y_train_smote=smote. fit_resample(X_train.astype('float'),y_train)\n",
    "\n",
    "\n",
    "# displying the number of element before introducing smote\n",
    "\n",
    "print ('Before Smote:', Counter(y_train)) # \n",
    "\n",
    "# displying the number of element after introducing smote\n",
    "print ('After Smote:', Counter(y_train_smote))"
   ]
  },
  {
   "cell_type": "markdown",
   "metadata": {},
   "source": [
    "The number of False: 2284 and True: 2284 are now balanced "
   ]
  },
  {
   "cell_type": "markdown",
   "metadata": {},
   "source": [
    "### Evaluting the effect of Oversampling \"True\""
   ]
  },
  {
   "cell_type": "code",
   "execution_count": 67,
   "metadata": {},
   "outputs": [
    {
     "name": "stdout",
     "output_type": "stream",
     "text": [
      "Accuracy : 0.712143928035982\n"
     ]
    },
    {
     "data": {
      "text/html": [
       "<div>\n",
       "<style scoped>\n",
       "    .dataframe tbody tr th:only-of-type {\n",
       "        vertical-align: middle;\n",
       "    }\n",
       "\n",
       "    .dataframe tbody tr th {\n",
       "        vertical-align: top;\n",
       "    }\n",
       "\n",
       "    .dataframe thead th {\n",
       "        text-align: right;\n",
       "    }\n",
       "</style>\n",
       "<table border=\"1\" class=\"dataframe\">\n",
       "  <thead>\n",
       "    <tr style=\"text-align: right;\">\n",
       "      <th>col_0</th>\n",
       "      <th>False</th>\n",
       "      <th>True</th>\n",
       "    </tr>\n",
       "    <tr>\n",
       "      <th>churn</th>\n",
       "      <th></th>\n",
       "      <th></th>\n",
       "    </tr>\n",
       "  </thead>\n",
       "  <tbody>\n",
       "    <tr>\n",
       "      <th>False</th>\n",
       "      <td>403</td>\n",
       "      <td>163</td>\n",
       "    </tr>\n",
       "    <tr>\n",
       "      <th>True</th>\n",
       "      <td>29</td>\n",
       "      <td>72</td>\n",
       "    </tr>\n",
       "  </tbody>\n",
       "</table>\n",
       "</div>"
      ],
      "text/plain": [
       "col_0  False  True \n",
       "churn              \n",
       "False    403    163\n",
       "True      29     72"
      ]
     },
     "execution_count": 67,
     "metadata": {},
     "output_type": "execute_result"
    }
   ],
   "source": [
    "model.fit(X_train_somte, y_train_smote)\n",
    "y_pred= model. predict(X_test)\n",
    "print ('Accuracy :',accuracy_score(y_test,y_pred))\n",
    "pd.crosstab(y_test,y_pred)"
   ]
  },
  {
   "cell_type": "markdown",
   "metadata": {},
   "source": [
    "Accuracy  has reduced, 72%, on the other hand, samples the has been classified correctly as  \"True\" incresed from 5% to 72%"
   ]
  },
  {
   "cell_type": "markdown",
   "metadata": {},
   "source": [
    "#### Evaluting Classification After SMOTE"
   ]
  },
  {
   "cell_type": "code",
   "execution_count": 68,
   "metadata": {},
   "outputs": [
    {
     "data": {
      "image/png": "[encoded data removed]",
      "text/plain": [
       "<Figure size 432x288 with 2 Axes>"
      ]
     },
     "metadata": {},
     "output_type": "display_data"
    }
   ],
   "source": [
    "y_pred = model.predict(X_train)\n",
    "\n",
    "# Calculate confusion matrix\n",
    "cm = confusion_matrix(y_train, y_pred)\n",
    "\n",
    "# Plot confusion matrix using seaborn heatmap\n",
    "sns.heatmap(cm, annot=True, fmt='d', cmap='Blues')\n",
    "plt.xlabel('Predicted')\n",
    "plt.ylabel('True')\n",
    "plt.show()"
   ]
  },
  {
   "cell_type": "markdown",
   "metadata": {},
   "source": [
    "sample size of True category has increased ; more element, espcially True category have classiffied correctly (70%). This is a great improvemetnt"
   ]
  },
  {
   "cell_type": "markdown",
   "metadata": {},
   "source": [
    "### Introducing Other models:Forest Model, K-Nearest Neighbors ModelEmbedded Model and Decision Tree Model"
   ]
  },
  {
   "cell_type": "code",
   "execution_count": 69,
   "metadata": {},
   "outputs": [
    {
     "name": "stdout",
     "output_type": "stream",
     "text": [
      "Logistic Regression Accuracy: 0.8515742128935532\n",
      "Logistic Regression Classification Report:\n",
      "              precision    recall  f1-score   support\n",
      "\n",
      "       False       0.85      0.99      0.92       566\n",
      "        True       0.62      0.05      0.09       101\n",
      "\n",
      "    accuracy                           0.85       667\n",
      "   macro avg       0.74      0.52      0.51       667\n",
      "weighted avg       0.82      0.85      0.79       667\n",
      "\n",
      "Random Forest Accuracy: 0.974512743628186\n",
      "Random Forest Classification Report:\n",
      "              precision    recall  f1-score   support\n",
      "\n",
      "       False       0.97      1.00      0.99       566\n",
      "        True       0.98      0.85      0.91       101\n",
      "\n",
      "    accuracy                           0.97       667\n",
      "   macro avg       0.98      0.92      0.95       667\n",
      "weighted avg       0.97      0.97      0.97       667\n",
      "\n",
      "Decision Tree Accuracy: 0.9355322338830585\n",
      "Decision Tree Classification Report:\n",
      "              precision    recall  f1-score   support\n",
      "\n",
      "       False       0.97      0.95      0.96       566\n",
      "        True       0.75      0.85      0.80       101\n",
      "\n",
      "    accuracy                           0.94       667\n",
      "   macro avg       0.86      0.90      0.88       667\n",
      "weighted avg       0.94      0.94      0.94       667\n",
      "\n",
      "K-Nearest Neighbors Accuracy: 0.8725637181409296\n",
      "K-Nearest Neighbors Classification Report:\n",
      "              precision    recall  f1-score   support\n",
      "\n",
      "       False       0.89      0.97      0.93       566\n",
      "        True       0.66      0.33      0.44       101\n",
      "\n",
      "    accuracy                           0.87       667\n",
      "   macro avg       0.77      0.65      0.68       667\n",
      "weighted avg       0.85      0.87      0.85       667\n",
      "\n",
      "Embedded Model Accuracy: 0.9190404797601199\n",
      "Embedded Model Classification Report:\n",
      "              precision    recall  f1-score   support\n",
      "\n",
      "       False       0.94      0.97      0.95       566\n",
      "        True       0.78      0.65      0.71       101\n",
      "\n",
      "    accuracy                           0.92       667\n",
      "   macro avg       0.86      0.81      0.83       667\n",
      "weighted avg       0.92      0.92      0.92       667\n",
      "\n"
     ]
    },
    {
     "data": {
      "text/html": [
       "<style>#sk-container-id-2 {color: black;}#sk-container-id-2 pre{padding: 0;}#sk-container-id-2 div.sk-toggleable {background-color: white;}#sk-container-id-2 label.sk-toggleable__label {cursor: pointer;display: block;width: 100%;margin-bottom: 0;padding: 0.3em;box-sizing: border-box;text-align: center;}#sk-container-id-2 label.sk-toggleable__label-arrow:before {content: \"▸\";float: left;margin-right: 0.25em;color: #696969;}#sk-container-id-2 label.sk-toggleable__label-arrow:hover:before {color: black;}#sk-container-id-2 div.sk-estimator:hover label.sk-toggleable__label-arrow:before {color: black;}#sk-container-id-2 div.sk-toggleable__content {max-height: 0;max-width: 0;overflow: hidden;text-align: left;background-color: #f0f8ff;}#sk-container-id-2 div.sk-toggleable__content pre {margin: 0.2em;color: black;border-radius: 0.25em;background-color: #f0f8ff;}#sk-container-id-2 input.sk-toggleable__control:checked~div.sk-toggleable__content {max-height: 200px;max-width: 100%;overflow: auto;}#sk-container-id-2 input.sk-toggleable__control:checked~label.sk-toggleable__label-arrow:before {content: \"▾\";}#sk-container-id-2 div.sk-estimator input.sk-toggleable__control:checked~label.sk-toggleable__label {background-color: #d4ebff;}#sk-container-id-2 div.sk-label input.sk-toggleable__control:checked~label.sk-toggleable__label {background-color: #d4ebff;}#sk-container-id-2 input.sk-hidden--visually {border: 0;clip: rect(1px 1px 1px 1px);clip: rect(1px, 1px, 1px, 1px);height: 1px;margin: -1px;overflow: hidden;padding: 0;position: absolute;width: 1px;}#sk-container-id-2 div.sk-estimator {font-family: monospace;background-color: #f0f8ff;border: 1px dotted black;border-radius: 0.25em;box-sizing: border-box;margin-bottom: 0.5em;}#sk-container-id-2 div.sk-estimator:hover {background-color: #d4ebff;}#sk-container-id-2 div.sk-parallel-item::after {content: \"\";width: 100%;border-bottom: 1px solid gray;flex-grow: 1;}#sk-container-id-2 div.sk-label:hover label.sk-toggleable__label {background-color: #d4ebff;}#sk-container-id-2 div.sk-serial::before {content: \"\";position: absolute;border-left: 1px solid gray;box-sizing: border-box;top: 0;bottom: 0;left: 50%;z-index: 0;}#sk-container-id-2 div.sk-serial {display: flex;flex-direction: column;align-items: center;background-color: white;padding-right: 0.2em;padding-left: 0.2em;position: relative;}#sk-container-id-2 div.sk-item {position: relative;z-index: 1;}#sk-container-id-2 div.sk-parallel {display: flex;align-items: stretch;justify-content: center;background-color: white;position: relative;}#sk-container-id-2 div.sk-item::before, #sk-container-id-2 div.sk-parallel-item::before {content: \"\";position: absolute;border-left: 1px solid gray;box-sizing: border-box;top: 0;bottom: 0;left: 50%;z-index: -1;}#sk-container-id-2 div.sk-parallel-item {display: flex;flex-direction: column;z-index: 1;position: relative;background-color: white;}#sk-container-id-2 div.sk-parallel-item:first-child::after {align-self: flex-end;width: 50%;}#sk-container-id-2 div.sk-parallel-item:last-child::after {align-self: flex-start;width: 50%;}#sk-container-id-2 div.sk-parallel-item:only-child::after {width: 0;}#sk-container-id-2 div.sk-dashed-wrapped {border: 1px dashed gray;margin: 0 0.4em 0.5em 0.4em;box-sizing: border-box;padding-bottom: 0.4em;background-color: white;}#sk-container-id-2 div.sk-label label {font-family: monospace;font-weight: bold;display: inline-block;line-height: 1.2em;}#sk-container-id-2 div.sk-label-container {text-align: center;}#sk-container-id-2 div.sk-container {/* jupyter's `normalize.less` sets `[hidden] { display: none; }` but bootstrap.min.css set `[hidden] { display: none !important; }` so we also need the `!important` here to be able to override the default hidden behavior on the sphinx rendered scikit-learn.org. See: https://github.com/scikit-learn/scikit-learn/issues/21755 */display: inline-block !important;position: relative;}#sk-container-id-2 div.sk-text-repr-fallback {display: none;}</style><div id=\"sk-container-id-2\" class=\"sk-top-container\"><div class=\"sk-text-repr-fallback\"><pre>Pipeline(steps=[(&#x27;feature_selection&#x27;,\n",
       "                 SelectFromModel(estimator=RandomForestClassifier(random_state=42))),\n",
       "                (&#x27;classification&#x27;, RandomForestClassifier(random_state=42))])</pre><b>In a Jupyter environment, please rerun this cell to show the HTML representation or trust the notebook. <br />On GitHub, the HTML representation is unable to render, please try loading this page with nbviewer.org.</b></div><div class=\"sk-container\" hidden><div class=\"sk-item sk-dashed-wrapped\"><div class=\"sk-label-container\"><div class=\"sk-label sk-toggleable\"><input class=\"sk-toggleable__control sk-hidden--visually\" id=\"sk-estimator-id-6\" type=\"checkbox\" ><label for=\"sk-estimator-id-6\" class=\"sk-toggleable__label sk-toggleable__label-arrow\">Pipeline</label><div class=\"sk-toggleable__content\"><pre>Pipeline(steps=[(&#x27;feature_selection&#x27;,\n",
       "                 SelectFromModel(estimator=RandomForestClassifier(random_state=42))),\n",
       "                (&#x27;classification&#x27;, RandomForestClassifier(random_state=42))])</pre></div></div></div><div class=\"sk-serial\"><div class=\"sk-item sk-dashed-wrapped\"><div class=\"sk-label-container\"><div class=\"sk-label sk-toggleable\"><input class=\"sk-toggleable__control sk-hidden--visually\" id=\"sk-estimator-id-7\" type=\"checkbox\" ><label for=\"sk-estimator-id-7\" class=\"sk-toggleable__label sk-toggleable__label-arrow\">feature_selection: SelectFromModel</label><div class=\"sk-toggleable__content\"><pre>SelectFromModel(estimator=RandomForestClassifier(random_state=42))</pre></div></div></div><div class=\"sk-parallel\"><div class=\"sk-parallel-item\"><div class=\"sk-item\"><div class=\"sk-label-container\"><div class=\"sk-label sk-toggleable\"><input class=\"sk-toggleable__control sk-hidden--visually\" id=\"sk-estimator-id-8\" type=\"checkbox\" ><label for=\"sk-estimator-id-8\" class=\"sk-toggleable__label sk-toggleable__label-arrow\">estimator: RandomForestClassifier</label><div class=\"sk-toggleable__content\"><pre>RandomForestClassifier(random_state=42)</pre></div></div></div><div class=\"sk-serial\"><div class=\"sk-item\"><div class=\"sk-estimator sk-toggleable\"><input class=\"sk-toggleable__control sk-hidden--visually\" id=\"sk-estimator-id-9\" type=\"checkbox\" ><label for=\"sk-estimator-id-9\" class=\"sk-toggleable__label sk-toggleable__label-arrow\">RandomForestClassifier</label><div class=\"sk-toggleable__content\"><pre>RandomForestClassifier(random_state=42)</pre></div></div></div></div></div></div></div></div><div class=\"sk-item\"><div class=\"sk-estimator sk-toggleable\"><input class=\"sk-toggleable__control sk-hidden--visually\" id=\"sk-estimator-id-10\" type=\"checkbox\" ><label for=\"sk-estimator-id-10\" class=\"sk-toggleable__label sk-toggleable__label-arrow\">RandomForestClassifier</label><div class=\"sk-toggleable__content\"><pre>RandomForestClassifier(random_state=42)</pre></div></div></div></div></div></div></div>"
      ],
      "text/plain": [
       "Pipeline(steps=[('feature_selection',\n",
       "                 SelectFromModel(estimator=RandomForestClassifier(random_state=42))),\n",
       "                ('classification', RandomForestClassifier(random_state=42))])"
      ]
     },
     "execution_count": 69,
     "metadata": {},
     "output_type": "execute_result"
    }
   ],
   "source": [
    "\n",
    "# Creating fuctions to contain all the the modeles\n",
    "def prepare_data():\n",
    "    \n",
    "    # Load dataset and preprocess it as needed\n",
    "    # Preprocess and split the data into features (X) and target (y)\n",
    "    # X_train, X_test, y_train, y_test = train_test_split(X, y, test_size=0.2, random_state=42)\n",
    "    pass\n",
    "\n",
    "# Logistic Regression Model\n",
    "def logistic_model(X_train, y_train, X_test, y_test):\n",
    "    model = LogisticRegression(random_state=42)\n",
    "    model.fit(X_train, y_train)\n",
    "    y_pred = model.predict(X_test)\n",
    "    print(\"Logistic Regression Accuracy:\", accuracy_score(y_test, y_pred))\n",
    "    print(\"Logistic Regression Classification Report:\")\n",
    "    print(classification_report(y_test, y_pred))\n",
    "    return model\n",
    "\n",
    "# Random Forest Model\n",
    "def random_forest_model(X_train, y_train, X_test, y_test):\n",
    "    model = RandomForestClassifier(random_state=42)\n",
    "    model.fit(X_train, y_train)\n",
    "    y_pred = model.predict(X_test)\n",
    "    print(\"Random Forest Accuracy:\", accuracy_score(y_test, y_pred))\n",
    "    print(\"Random Forest Classification Report:\")\n",
    "    print(classification_report(y_test, y_pred))\n",
    "    return model\n",
    "\n",
    "# Decision Tree Model\n",
    "def decision_tree_model(X_train, y_train, X_test, y_test):\n",
    "    model = DecisionTreeClassifier(random_state=42)\n",
    "    model.fit(X_train, y_train)\n",
    "    y_pred = model.predict(X_test)\n",
    "    print(\"Decision Tree Accuracy:\", accuracy_score(y_test, y_pred))\n",
    "    print(\"Decision Tree Classification Report:\")\n",
    "    print(classification_report(y_test, y_pred))\n",
    "    return model\n",
    "\n",
    "# K-Nearest Neighbors Model\n",
    "def knn_model(X_train, y_train, X_test, y_test):\n",
    "    model = KNeighborsClassifier()\n",
    "    model.fit(X_train, y_train)\n",
    "    y_pred = model.predict(X_test)\n",
    "    print(\"K-Nearest Neighbors Accuracy:\", accuracy_score(y_test, y_pred))\n",
    "    print(\"K-Nearest Neighbors Classification Report:\")\n",
    "    print(classification_report(y_test, y_pred))\n",
    "    return model\n",
    "\n",
    "# Embedded Model (using Random Forest for feature selection)\n",
    "def embedded_model(X_train, y_train, X_test, y_test):\n",
    "    model = Pipeline([\n",
    "        ('feature_selection', SelectFromModel(RandomForestClassifier(random_state=42))),\n",
    "        ('classification', RandomForestClassifier(random_state=42))\n",
    "    ])\n",
    "    model.fit(X_train, y_train)\n",
    "    y_pred = model.predict(X_test)\n",
    "    print(\"Embedded Model Accuracy:\", accuracy_score(y_test, y_pred))\n",
    "    print(\"Embedded Model Classification Report:\")\n",
    "    print(classification_report(y_test, y_pred))\n",
    "    return model\n",
    "\n",
    "# Example Usage\n",
    "prepare_data()  # Call your data preparation function\n",
    "X_train, X_test, y_train, y_test = train_test_split(X, y, test_size=0.2, random_state=42)\n",
    "\n",
    "logistic_model(X_train, y_train, X_test, y_test)\n",
    "random_forest_model(X_train, y_train, X_test, y_test)\n",
    "decision_tree_model(X_train, y_train, X_test, y_test)\n",
    "knn_model(X_train, y_train, X_test, y_test)\n",
    "embedded_model(X_train, y_train, X_test, y_test)"
   ]
  },
  {
   "cell_type": "markdown",
   "metadata": {},
   "source": [
    "#### Models Intepretation \n",
    "\n",
    "Random Forest has the highet accuracy 97.45% followed by Decision Tree 93.55% and lastly is Logistic Regression 85.16%. Thus our best performed model is Random Forest."
   ]
  },
  {
   "cell_type": "markdown",
   "metadata": {},
   "source": [
    "### Model Evaluation \n",
    "\n",
    " The main objective of this stage is to  assess our models. This is crucial for understanding the model's strengths and weaknesses. Additionally, it helps to determine which one is better suited for your specific problem. This is essential for making informed decisions about which model to deploy in a real-world scenario."
   ]
  },
  {
   "cell_type": "code",
   "execution_count": 70,
   "metadata": {},
   "outputs": [
    {
     "name": "stdout",
     "output_type": "stream",
     "text": [
      "Logistic Regression Accuracy: 0.8515742128935532\n",
      "Logistic Regression Classification Report:\n",
      "              precision    recall  f1-score   support\n",
      "\n",
      "       False       0.85      0.99      0.92       566\n",
      "        True       0.62      0.05      0.09       101\n",
      "\n",
      "    accuracy                           0.85       667\n",
      "   macro avg       0.74      0.52      0.51       667\n",
      "weighted avg       0.82      0.85      0.79       667\n",
      "\n",
      "Random Forest Accuracy: 0.974512743628186\n",
      "Random Forest Classification Report:\n",
      "              precision    recall  f1-score   support\n",
      "\n",
      "       False       0.97      1.00      0.99       566\n",
      "        True       0.98      0.85      0.91       101\n",
      "\n",
      "    accuracy                           0.97       667\n",
      "   macro avg       0.98      0.92      0.95       667\n",
      "weighted avg       0.97      0.97      0.97       667\n",
      "\n",
      "Decision Tree Accuracy: 0.9355322338830585\n",
      "Decision Tree Classification Report:\n",
      "              precision    recall  f1-score   support\n",
      "\n",
      "       False       0.97      0.95      0.96       566\n",
      "        True       0.75      0.85      0.80       101\n",
      "\n",
      "    accuracy                           0.94       667\n",
      "   macro avg       0.86      0.90      0.88       667\n",
      "weighted avg       0.94      0.94      0.94       667\n",
      "\n",
      "K-Nearest Neighbors Accuracy: 0.8725637181409296\n",
      "K-Nearest Neighbors Classification Report:\n",
      "              precision    recall  f1-score   support\n",
      "\n",
      "       False       0.89      0.97      0.93       566\n",
      "        True       0.66      0.33      0.44       101\n",
      "\n",
      "    accuracy                           0.87       667\n",
      "   macro avg       0.77      0.65      0.68       667\n",
      "weighted avg       0.85      0.87      0.85       667\n",
      "\n",
      "Embedded Model Accuracy: 0.9190404797601199\n",
      "Embedded Model Classification Report:\n",
      "              precision    recall  f1-score   support\n",
      "\n",
      "       False       0.94      0.97      0.95       566\n",
      "        True       0.78      0.65      0.71       101\n",
      "\n",
      "    accuracy                           0.92       667\n",
      "   macro avg       0.86      0.81      0.83       667\n",
      "weighted avg       0.92      0.92      0.92       667\n",
      "\n"
     ]
    },
    {
     "data": {
      "image/png": "[encoded data removed]",
      "text/plain": [
       "<Figure size 720x576 with 1 Axes>"
      ]
     },
     "metadata": {},
     "output_type": "display_data"
    }
   ],
   "source": [
    "# Import nessary libraries \n",
    "from sklearn.metrics import roc_curve, auc\n",
    "from sklearn.preprocessing import label_binarize\n",
    "\n",
    "def plot_roc_auc(X_train, y_train, X_test, y_test, models):\n",
    "    plt.figure(figsize=(10, 8))\n",
    "    plt.plot([0, 1], [0, 1], color='navy', lw=2, linestyle='--', label='Random Guess')\n",
    "\n",
    "    for model_name, model_function in models.items():\n",
    "        # Train the model\n",
    "        model = model_function(X_train, y_train, X_test, y_test)\n",
    "        \n",
    "        # Get the predicted probabilities for each class\n",
    "        y_proba = model.predict_proba(X_test)\n",
    "        \n",
    "        # If binary classification, use label 1 probabilities\n",
    "        if len(np.unique(y_train)) == 2:\n",
    "            y_proba = y_proba[:, 1]\n",
    "            y_test_bin = label_binarize(y_test, classes=np.unique(y_train))\n",
    "        else:\n",
    "            # For multi-class classification, use one-vs-rest strategy\n",
    "            y_test_bin = label_binarize(y_test, classes=np.unique(y_train))\n",
    "        \n",
    "        # Calculate ROC curve\n",
    "        fpr, tpr, _ = roc_curve(y_test_bin.ravel(), y_proba.ravel())\n",
    "        \n",
    "        # Calculate AUC\n",
    "        auc_score = auc(fpr, tpr)\n",
    "        \n",
    "        # Plot ROC curve\n",
    "        plt.plot(fpr, tpr, label=f'{model_name} (AUC = {auc_score:.2f})')\n",
    "\n",
    "    plt.xlabel('False Positive Rate')\n",
    "    plt.ylabel('True Positive Rate')\n",
    "    plt.title('Receiver Operating Characteristic (ROC) Curve')\n",
    "    plt.legend(loc='lower right')\n",
    "    plt.show()\n",
    "\n",
    "# Example Usage\n",
    "models = {\n",
    "    \"Logistic Regression\": logistic_model,\n",
    "    \"Random Forest\": random_forest_model,\n",
    "    \"Decision Tree\": decision_tree_model,\n",
    "    \"K-Nearest Neighbors\": knn_model,\n",
    "    \"Embedded Model\": embedded_model\n",
    "}\n",
    "\n",
    "plot_roc_auc(X_train, y_train, X_test, y_test, models)\n"
   ]
  },
  {
   "cell_type": "markdown",
   "metadata": {},
   "source": [
    "When considering the Area Under the Curve (AUC) as a metric, the Random Forest model stands out as the most effective, boasting an AUC of 0.93. Following closely are the Decision Tree and the Embedded Model, both with AUC values of 0.9. Notably, the K-Nearest Neighbors model performed the least well among the models evaluated.\n",
    "\n",
    "Given these results, the Random Forest model appears to be the optimal choice for this dataset. Its high AUC indicates robust performance in distinguishing between classes, making it a reliable model for the given data."
   ]
  },
  {
   "cell_type": "markdown",
   "metadata": {},
   "source": [
    "### Hyperparameter Tuning"
   ]
  },
  {
   "cell_type": "markdown",
   "metadata": {},
   "source": [
    "The goal of this stage if to find the best parameters for our models to ensuure optimal perfomance i.e reduce overfiting and underfiting\n",
    "\n",
    " ### NB.  GridSearchCV has been chosen as the tool for tuning the parameters"
   ]
  },
  {
   "cell_type": "code",
   "execution_count": 71,
   "metadata": {},
   "outputs": [
    {
     "name": "stdout",
     "output_type": "stream",
     "text": [
      "                 Model                                    Best Parameters  \\\n",
      "0  Logistic Regression                                       {'C': 0.001}   \n",
      "1        Random Forest            {'max_depth': None, 'n_estimators': 50}   \n",
      "2        Decision Tree         {'max_depth': 10, 'min_samples_split': 10}   \n",
      "3  K-Nearest Neighbors          {'n_neighbors': 7, 'weights': 'distance'}   \n",
      "4       Embedded Model  {'classification__max_depth': 10, 'classificat...   \n",
      "\n",
      "   Accuracy  \n",
      "0  0.850075  \n",
      "1  0.974513  \n",
      "2  0.962519  \n",
      "3  0.881559  \n",
      "4  0.919040  \n"
     ]
    }
   ],
   "source": [
    "\n",
    "from sklearn.model_selection import GridSearchCV\n",
    "from sklearn.pipeline import Pipeline\n",
    "from sklearn.feature_selection import SelectFromModel\n",
    "\n",
    "# Logistic Regression Model\n",
    "def logistic_model_grid_search(X_train, y_train, X_test, y_test):\n",
    "    param_grid = {'C': [0.001, 0.01, 0.1, 1, 10, 100]}\n",
    "    grid_search = GridSearchCV(LogisticRegression(random_state=42), param_grid, cv=5)\n",
    "    grid_search.fit(X_train, y_train)\n",
    "    \n",
    "    best_model = grid_search.best_estimator_\n",
    "    best_params = grid_search.best_params_\n",
    "    \n",
    "    y_pred = best_model.predict(X_test)\n",
    "    accuracy = accuracy_score(y_test, y_pred)\n",
    "    \n",
    "    return best_params, best_model, accuracy\n",
    "\n",
    "# Random Forest Model\n",
    "def random_forest_model_grid_search(X_train, y_train, X_test, y_test):\n",
    "    param_grid = {'n_estimators': [50, 100, 200], 'max_depth': [None, 10, 20]}\n",
    "    grid_search = GridSearchCV(RandomForestClassifier(random_state=42), param_grid, cv=5)\n",
    "    grid_search.fit(X_train, y_train)\n",
    "    \n",
    "    best_model = grid_search.best_estimator_\n",
    "    best_params = grid_search.best_params_\n",
    "    \n",
    "    y_pred = best_model.predict(X_test)\n",
    "    accuracy = accuracy_score(y_test, y_pred)\n",
    "    \n",
    "    return best_params, best_model, accuracy\n",
    "\n",
    "# Decision Tree Model\n",
    "def decision_tree_model_grid_search(X_train, y_train, X_test, y_test):\n",
    "    param_grid = {'max_depth': [None, 10, 20], 'min_samples_split': [2, 5, 10]}\n",
    "    grid_search = GridSearchCV(DecisionTreeClassifier(random_state=42), param_grid, cv=5)\n",
    "    grid_search.fit(X_train, y_train)\n",
    "    \n",
    "    best_model = grid_search.best_estimator_\n",
    "    best_params = grid_search.best_params_\n",
    "    \n",
    "    y_pred = best_model.predict(X_test)\n",
    "    accuracy = accuracy_score(y_test, y_pred)\n",
    "    \n",
    "    return best_params, best_model, accuracy\n",
    "\n",
    "# K-Nearest Neighbors Model\n",
    "def knn_model_grid_search(X_train, y_train, X_test, y_test):\n",
    "    param_grid = {'n_neighbors': [3, 5, 7], 'weights': ['uniform', 'distance']}\n",
    "    grid_search = GridSearchCV(KNeighborsClassifier(), param_grid, cv=5)\n",
    "    grid_search.fit(X_train, y_train)\n",
    "    \n",
    "    best_model = grid_search.best_estimator_\n",
    "    best_params = grid_search.best_params_\n",
    "    \n",
    "    y_pred = best_model.predict(X_test)\n",
    "    accuracy = accuracy_score(y_test, y_pred)\n",
    "    \n",
    "    return best_params, best_model, accuracy\n",
    "\n",
    "# Embedded Model (using Random Forest for feature selection)\n",
    "def embedded_model_grid_search(X_train, y_train, X_test, y_test):\n",
    "    param_grid = {'classification__n_estimators': [50, 100, 200], 'classification__max_depth': [None, 10, 20]}\n",
    "    model = Pipeline([\n",
    "        ('feature_selection', SelectFromModel(RandomForestClassifier(random_state=42))),\n",
    "        ('classification', RandomForestClassifier(random_state=42))\n",
    "    ])\n",
    "    grid_search = GridSearchCV(model, param_grid, cv=5)\n",
    "    grid_search.fit(X_train, y_train)\n",
    "    \n",
    "    best_model = grid_search.best_estimator_\n",
    "    best_params = grid_search.best_params_\n",
    "    \n",
    "    y_pred = best_model.predict(X_test)\n",
    "    accuracy = accuracy_score(y_test, y_pred)\n",
    "    \n",
    "    return best_params, best_model, accuracy\n",
    "\n",
    "# Compare models and parameters\n",
    "models = {\n",
    "    \"Logistic Regression\": logistic_model_grid_search,\n",
    "    \"Random Forest\": random_forest_model_grid_search,\n",
    "    \"Decision Tree\": decision_tree_model_grid_search,\n",
    "    \"K-Nearest Neighbors\": knn_model_grid_search,\n",
    "    \"Embedded Model\": embedded_model_grid_search\n",
    "}\n",
    "\n",
    "results = {'Model': [], 'Best Parameters': [], 'Accuracy': []}\n",
    "\n",
    "for model_name, model_function in models.items():\n",
    "    best_params, best_model, accuracy = model_function(X_train, y_train, X_test, y_test)\n",
    "    \n",
    "    results['Model'].append(model_name)\n",
    "    results['Best Parameters'].append(best_params)\n",
    "    results['Accuracy'].append(accuracy)\n",
    "\n",
    "# Create a DataFrame for comparison\n",
    "comparison_df = pd.DataFrame(results)\n",
    "print(comparison_df)"
   ]
  },
  {
   "cell_type": "markdown",
   "metadata": {},
   "source": [
    "The table provides information on different models along with their best parameters and corresponding accuracies:\n",
    "\n",
    "Logistic Regression: Achieved an accuracy of 85.01% with the best parameter 'C' set to 0.001.\n",
    "\n",
    "Random Forest: Emerged as the top-performing model with an accuracy of 97.45%, utilizing the following parameters:\n",
    "\n",
    "max_depth: None\n",
    "n_estimators: 50\n",
    "Decision Tree: Showcased a strong performance with an accuracy of 96.25%, using parameters 'max_depth' of 10 and 'min_samples_split' of 10.\n",
    "\n",
    "K-Nearest Neighbors: Achieved an accuracy of 88.16% with parameters 'n_neighbors' set to 7 and 'weights' as 'distance'.\n",
    "\n",
    "Embedded Model: Demonstrated good performance with an accuracy of 91.90%, employing specific classification parameters.\n",
    "\n",
    "In summary, the Random Forest model, with a remarkable accuracy of 97.45%, is considered the best-performing model. It was optimized with 'max_depth' set to None and 'n_estimators' at 50."
   ]
  },
  {
   "cell_type": "markdown",
   "metadata": {},
   "source": [
    "### Choosing the Model and the best Parameters "
   ]
  },
  {
   "cell_type": "code",
   "execution_count": 72,
   "metadata": {},
   "outputs": [
    {
     "name": "stdout",
     "output_type": "stream",
     "text": [
      "Random Forest (Tuned) Accuracy: 0.974512743628186\n",
      "              precision    recall  f1-score   support\n",
      "\n",
      "       False       0.97      1.00      0.99       566\n",
      "        True       0.98      0.85      0.91       101\n",
      "\n",
      "    accuracy                           0.97       667\n",
      "   macro avg       0.98      0.92      0.95       667\n",
      "weighted avg       0.97      0.97      0.97       667\n",
      "\n"
     ]
    }
   ],
   "source": [
    "# Creating a Random Forest model and inserting the paramters\n",
    "best_rf_model = RandomForestClassifier(max_depth=None, n_estimators=50, random_state=42)\n",
    "\n",
    "# Fiting the model to the training data\n",
    "best_rf_model.fit(X_train, y_train)\n",
    "\n",
    "# Make predictions on the test data\n",
    "y_pred_rf_tuned = best_rf_model.predict(X_test)\n",
    "\n",
    "# Evaluate the model\n",
    "print(\"Random Forest (Tuned) Accuracy:\", accuracy_score(y_test, y_pred_rf_tuned))\n",
    "print(classification_report(y_test, y_pred_rf_tuned))\n"
   ]
  },
  {
   "cell_type": "markdown",
   "metadata": {},
   "source": [
    "Our tuned model has accuracy of 97,.45% on the test data. this is good.\n"
   ]
  },
  {
   "cell_type": "markdown",
   "metadata": {},
   "source": [
    "### Selecting the Best Features for Prediction"
   ]
  },
  {
   "cell_type": "markdown",
   "metadata": {},
   "source": [
    "Not all the features are of great significance to the model. Some increase random noise which lead to model overfitting. It is important to select the most important feature to optimize the model"
   ]
  },
  {
   "cell_type": "code",
   "execution_count": 73,
   "metadata": {},
   "outputs": [
    {
     "name": "stdout",
     "output_type": "stream",
     "text": [
      "                   Feature  Importance\n",
      "17              Total_Cost    0.240862\n",
      "16  customer service calls    0.133228\n",
      "4        total day minutes    0.078819\n",
      "1       international plan    0.076029\n",
      "6         total day charge    0.070203\n",
      "3    number vmail messages    0.048825\n",
      "14        total intl calls    0.044611\n",
      "13      total intl minutes    0.040428\n",
      "15       total intl charge    0.039507\n",
      "7        total eve minutes    0.035350\n",
      "2          voice mail plan    0.033101\n",
      "9         total eve charge    0.032534\n",
      "10     total night minutes    0.025091\n",
      "5          total day calls    0.024933\n",
      "8          total eve calls    0.024224\n",
      "11       total night calls    0.023830\n",
      "12      total night charge    0.023232\n",
      "0                area code    0.005193\n"
     ]
    },
    {
     "data": {
      "image/png": "[encoded data removed]",
      "text/plain": [
       "<Figure size 720x432 with 1 Axes>"
      ]
     },
     "metadata": {},
     "output_type": "display_data"
    }
   ],
   "source": [
    "# Initialize the RandomForestClassifier\n",
    "rf_classifier = RandomForestClassifier(n_estimators=50, random_state=42)\n",
    "\n",
    "# Fit the model\n",
    "rf_classifier.fit(X, y)\n",
    "\n",
    "# Get feature importances\n",
    "feature_importances = rf_classifier.feature_importances_\n",
    "\n",
    "# Create a DataFrame to show feature names and their importance scores\n",
    "feature_importance_df = pd.DataFrame({'Feature': X.columns, 'Importance': feature_importances})\n",
    "\n",
    "# Sort features by importance\n",
    "feature_importance_df = feature_importance_df.sort_values(by='Importance', ascending=False)\n",
    "\n",
    "# Print or visualize the feature importances\n",
    "print(feature_importance_df)\n",
    "\n",
    "# Plotting the feature importances\n",
    "plt.figure(figsize=(10, 6))\n",
    "plt.barh(feature_importance_df['Feature'], feature_importance_df['Importance'])\n",
    "plt.xlabel('Importance Score')\n",
    "plt.title('Feature Importance')\n",
    "plt.show()"
   ]
  },
  {
   "cell_type": "markdown",
   "metadata": {},
   "source": [
    "###Key Factors Impacting Churn:\n",
    "\n",
    "1. Customer Service Calls: The frequency of customers reaching out to customer service, indicating concerns or seeking assistance.\n",
    "\n",
    "2. nternational Plan: A binary value indicating whether a customer has an international call plan or not.\n",
    "\n",
    "3. Total Cost: The cumulative cost of calls, calculated as the sum of day_charge, evening_charge, and night_charge, providing a 24-hour cost overview.\n",
    "\n",
    "4. Total Day Minutes: The amount of time customers spend on calls in minutes.\n",
    "\n",
    "5. Total Day Charge: The monetary expenditure incurred by users during daytime calls, potentially influenced by high per-minute rates, contributing to churn."
   ]
  },
  {
   "cell_type": "markdown",
   "metadata": {},
   "source": [
    "### Performing Prediction With Tuned Random Forest Model"
   ]
  },
  {
   "cell_type": "code",
   "execution_count": 74,
   "metadata": {},
   "outputs": [
    {
     "name": "stdout",
     "output_type": "stream",
     "text": [
      "Churn Prediction: False\n"
     ]
    }
   ],
   "source": [
    "# Creating a fuction to predict whether a customer will churn or not\n",
    "\n",
    "from sklearn.ensemble import RandomForestClassifier\n",
    "\n",
    "def predict_churn(total_day_charge, international_plan, customer_service_calls,\n",
    "                  total_day_minutes, Total_Cost):\n",
    "   \n",
    "    # Selecting relevant features\n",
    "    features = ['total day charge', 'international plan', 'customer service calls',\n",
    "                'total day minutes', 'Total_Cost']\n",
    "\n",
    "    # Creating a DataFrame with the provided values\n",
    "    input_data = pd.DataFrame([[total_day_charge, international_plan, customer_service_calls,\n",
    "                                total_day_minutes, Total_Cost]],\n",
    "                              columns=features)\n",
    "\n",
    "    # Initialize the RandomForestClassifier\n",
    "    rf_classifier = RandomForestClassifier(n_estimators=100, random_state=42)\n",
    "\n",
    "    # Assuming 'df' is your original DataFrame\n",
    "    X = df[features]\n",
    "    y = df['churn']\n",
    "\n",
    "    # Fit the model\n",
    "    rf_classifier.fit(X, y)\n",
    "\n",
    "    # Make predictions\n",
    "    predictions = rf_classifier.predict(input_data)\n",
    "\n",
    "    return predictions\n",
    "\n",
    "# Example usage:\n",
    "total_day_charge = 415\n",
    "international_plan = 0  # 0 for No, 1 for Yes\n",
    "customer_service_calls = 89\n",
    "total_day_minutes = 200\n",
    "Total_Cost = 70\n",
    "\n",
    "result = predict_churn(total_day_charge, international_plan, customer_service_calls,\n",
    "                        total_day_minutes, Total_Cost)\n",
    "\n",
    "print(f'Churn Prediction: {result[0]}')\n"
   ]
  },
  {
   "cell_type": "markdown",
   "metadata": {},
   "source": [
    "### Creating a Pickle to Store the Prediction Function "
   ]
  },
  {
   "cell_type": "code",
   "execution_count": 75,
   "metadata": {},
   "outputs": [
    {
     "name": "stdout",
     "output_type": "stream",
     "text": [
      "Churn Prediction: False\n"
     ]
    }
   ],
   "source": [
    "import pickle\n",
    "\n",
    "# Prediction Code\n",
    "\n",
    "def predict_churn(total_day_charge, international_plan, customer_service_calls,\n",
    "                  total_day_minutes, Total_Cost):\n",
    "   \n",
    "    # Selecting relevant features\n",
    "    features = ['total day charge', 'international plan', 'customer service calls',\n",
    "                'total day minutes', 'Total_Cost']\n",
    "\n",
    "    # Creating a DataFrame with the provided values\n",
    "    input_data = pd.DataFrame([[total_day_charge, international_plan, customer_service_calls,\n",
    "                                total_day_minutes, Total_Cost]],\n",
    "                              columns=features)\n",
    "\n",
    "    # Initialize the RandomForestClassifier\n",
    "    rf_classifier = RandomForestClassifier(n_estimators=100, random_state=42)\n",
    "\n",
    "    # Assuming 'df' is your original DataFrame\n",
    "    X = df[features]\n",
    "    y = df['churn']\n",
    "\n",
    "    # Fit the model\n",
    "    rf_classifier.fit(X, y)\n",
    "\n",
    "    # Make predictions\n",
    "    predictions = rf_classifier.predict(input_data)\n",
    "\n",
    "    return predictions\n",
    "\n",
    "# Example usage:\n",
    "total_day_charge = 415\n",
    "international_plan = 0  # 0 for No, 1 for Yes\n",
    "customer_service_calls = 89\n",
    "total_day_minutes = 200\n",
    "Total_Cost = 70\n",
    "\n",
    "result = predict_churn(total_day_charge, international_plan, customer_service_calls,\n",
    "                        total_day_minutes, Total_Cost)\n",
    "\n",
    "print(f'Churn Prediction: {result[0]}')\n",
    "\n",
    "# Save the trained model to a file\n",
    "with open('rf_model.pkl', 'wb') as model_file:\n",
    "    pickle.dump(rf_classifier, model_file)\n"
   ]
  },
  {
   "cell_type": "markdown",
   "metadata": {},
   "source": [
    "### Conclusion \n",
    "\n",
    "* The main factors affecting churn rate are charges of calls, International plan, frequency of customer service calls and total day minutes. \n",
    "* Call charges are expensive, especially during the day.\n",
    "* Customer satisfaction is a contributor to customer churn. The more the customers call the customer service, the higher the churn. Either the customer service representatives did not resolve the customer's problems, or the customer care queue was too busy to handle customers' calls. Customers do not get to speak to the customer; they give up and churn.\n",
    "* Probably, customers' experience and customer journey were not satisfactory.\n",
    "* Customers with international plans are likely to Churn. There could be issues with the high cost of calls and poor connectivity among others"
   ]
  },
  {
   "cell_type": "markdown",
   "metadata": {},
   "source": [
    "### Recommendation"
   ]
  },
  {
   "cell_type": "markdown",
   "metadata": {},
   "source": [
    "Review Call Charges:\n",
    "\n",
    "* Evaluate the pricing structure for calls, especially during the day, and consider revising it to make it more competitive and customer-friendly.\n",
    "* Introduce promotions or packages that offer cost-effective calling plans, potentially reducing the incentive for customers to churn.\n",
    "\n",
    "Enhance Customer Service Experience:\n",
    "\n",
    "* Invest in customer service training to ensure representatives are well-equipped to address and resolve customer issues efficiently.\n",
    "* Implement measures to reduce customer service wait times, such as increasing staff during peak hours or optimizing the customer care queue system.\n",
    "\n",
    "Improve Communication with Customers:\n",
    "\n",
    "* Enhance communication channels to keep customers informed about the status of their service requests, reducing frustration and the need for frequent customer service calls.\n",
    "* Consider implementing automated systems to provide updates on common issues, allowing customers to get information without having to contact customer service.\n",
    "\n",
    "Address International Plan Challenges:\n",
    "\n",
    "* Investigate and address issues related to international plans, such as connectivity problems or unclear pricing structures.\n",
    "* Provide additional benefits or incentives for customers with international plans to increase their satisfaction and loyalty.\n",
    "\n",
    "Conduct Customer Satisfaction Surveys:\n",
    "\n",
    "* Regularly gather feedback from customers to understand their experiences and identify areas for improvement.\n",
    "* Use surveys to pinpoint specific pain points in the customer journey and take targeted actions to address them.\n",
    "\n",
    "Implement Customer Retention Programs:\n",
    "\n",
    "* Introduce loyalty programs or rewards for long-term customers to incentivize them to stay with the service.\n",
    "* Offer personalized promotions or discounts based on customer usage patterns to enhance their overall experience.\n",
    "\n",
    "Data Analysis for Proactive Measures:\n",
    "\n",
    "* Continuously analyze customer data to identify early signs of dissatisfaction or patterns that may indicate potential churn.\n",
    "* Implement proactive measures, such as reaching out to at-risk customers with targeted offers or support to prevent churn."
   ]
  }
 ],
 "metadata": {
  "kernelspec": {
   "display_name": "Python (learn-env)",
   "language": "python",
   "name": "learn-env"
  },
  "language_info": {
   "codemirror_mode": {
    "name": "ipython",
    "version": 3
   },
   "file_extension": ".py",
   "mimetype": "text/x-python",
   "name": "python",
   "nbconvert_exporter": "python",
   "pygments_lexer": "ipython3",
   "version": "3.8.5"
  }
 },
 "nbformat": 4,
 "nbformat_minor": 4
}
